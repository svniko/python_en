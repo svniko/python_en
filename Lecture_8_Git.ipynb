{
 "cells": [
  {
   "cell_type": "markdown",
   "metadata": {},
   "source": [
    "# Lecture 8"
   ]
  },
  {
   "cell_type": "markdown",
   "metadata": {},
   "source": [
    "# Data Manipulation with Pandas. Part 2"
   ]
  },
  {
   "cell_type": "markdown",
   "metadata": {},
   "source": [
    "Let's import the libraries we need."
   ]
  },
  {
   "cell_type": "code",
   "execution_count": 1,
   "metadata": {},
   "outputs": [],
   "source": [
    "import pandas as pd\n",
    "import numpy as np"
   ]
  },
  {
   "cell_type": "markdown",
   "metadata": {},
   "source": [
    "How to work with `DataFrame` we will look using the example of a dataset on bike rides in New York.\n"
   ]
  },
  {
   "cell_type": "code",
   "execution_count": 2,
   "metadata": {},
   "outputs": [],
   "source": [
    "df = pd.read_csv('data\\citibike.csv')"
   ]
  },
  {
   "cell_type": "markdown",
   "metadata": {},
   "source": [
    "Let's see how the `DataFrame` works. We often don't need to print out the entire `DataFrame`,\n",
    "when we want to know its structure, what columns it contains. Let's say we're interested\n",
    "look at the first 3 lines only and there is a `head` method in Pandas which is by default\n",
    "returns the first 5 rows of our `DataFrame`.\n"
   ]
  },
  {
   "cell_type": "code",
   "execution_count": 3,
   "metadata": {},
   "outputs": [
    {
     "data": {
      "text/html": [
       "<div>\n",
       "<style scoped>\n",
       "    .dataframe tbody tr th:only-of-type {\n",
       "        vertical-align: middle;\n",
       "    }\n",
       "\n",
       "    .dataframe tbody tr th {\n",
       "        vertical-align: top;\n",
       "    }\n",
       "\n",
       "    .dataframe thead th {\n",
       "        text-align: right;\n",
       "    }\n",
       "</style>\n",
       "<table border=\"1\" class=\"dataframe\">\n",
       "  <thead>\n",
       "    <tr style=\"text-align: right;\">\n",
       "      <th></th>\n",
       "      <th>tripduration</th>\n",
       "      <th>starttime</th>\n",
       "      <th>stoptime</th>\n",
       "      <th>start station id</th>\n",
       "      <th>start station name</th>\n",
       "      <th>start station latitude</th>\n",
       "      <th>start station longitude</th>\n",
       "      <th>end station id</th>\n",
       "      <th>end station name</th>\n",
       "      <th>end station latitude</th>\n",
       "      <th>end station longitude</th>\n",
       "      <th>bikeid</th>\n",
       "      <th>usertype</th>\n",
       "      <th>birth year</th>\n",
       "      <th>gender</th>\n",
       "    </tr>\n",
       "  </thead>\n",
       "  <tbody>\n",
       "    <tr>\n",
       "      <th>0</th>\n",
       "      <td>704</td>\n",
       "      <td>7/1/2016 00:00:02</td>\n",
       "      <td>7/1/2016 00:11:47</td>\n",
       "      <td>459</td>\n",
       "      <td>W 20 St &amp; 11 Ave</td>\n",
       "      <td>40.746745</td>\n",
       "      <td>-74.007756</td>\n",
       "      <td>347</td>\n",
       "      <td>Greenwich St &amp; W Houston St</td>\n",
       "      <td>40.728846</td>\n",
       "      <td>-74.008591</td>\n",
       "      <td>17431</td>\n",
       "      <td>Customer</td>\n",
       "      <td>NaN</td>\n",
       "      <td>0</td>\n",
       "    </tr>\n",
       "    <tr>\n",
       "      <th>1</th>\n",
       "      <td>492</td>\n",
       "      <td>7/1/2016 00:00:18</td>\n",
       "      <td>7/1/2016 00:08:31</td>\n",
       "      <td>293</td>\n",
       "      <td>Lafayette St &amp; E 8 St</td>\n",
       "      <td>40.730287</td>\n",
       "      <td>-73.990765</td>\n",
       "      <td>466</td>\n",
       "      <td>W 25 St &amp; 6 Ave</td>\n",
       "      <td>40.743954</td>\n",
       "      <td>-73.991449</td>\n",
       "      <td>24159</td>\n",
       "      <td>Subscriber</td>\n",
       "      <td>1984.0</td>\n",
       "      <td>1</td>\n",
       "    </tr>\n",
       "    <tr>\n",
       "      <th>2</th>\n",
       "      <td>191</td>\n",
       "      <td>7/1/2016 00:00:19</td>\n",
       "      <td>7/1/2016 00:03:31</td>\n",
       "      <td>3090</td>\n",
       "      <td>N 8 St &amp; Driggs Ave</td>\n",
       "      <td>40.717746</td>\n",
       "      <td>-73.956001</td>\n",
       "      <td>3107</td>\n",
       "      <td>Bedford Ave &amp; Nassau Ave</td>\n",
       "      <td>40.723117</td>\n",
       "      <td>-73.952123</td>\n",
       "      <td>16345</td>\n",
       "      <td>Subscriber</td>\n",
       "      <td>1986.0</td>\n",
       "      <td>2</td>\n",
       "    </tr>\n",
       "  </tbody>\n",
       "</table>\n",
       "</div>"
      ],
      "text/plain": [
       "   tripduration          starttime           stoptime  start station id  \\\n",
       "0           704  7/1/2016 00:00:02  7/1/2016 00:11:47               459   \n",
       "1           492  7/1/2016 00:00:18  7/1/2016 00:08:31               293   \n",
       "2           191  7/1/2016 00:00:19  7/1/2016 00:03:31              3090   \n",
       "\n",
       "      start station name  start station latitude  start station longitude  \\\n",
       "0       W 20 St & 11 Ave               40.746745               -74.007756   \n",
       "1  Lafayette St & E 8 St               40.730287               -73.990765   \n",
       "2    N 8 St & Driggs Ave               40.717746               -73.956001   \n",
       "\n",
       "   end station id             end station name  end station latitude  \\\n",
       "0             347  Greenwich St & W Houston St             40.728846   \n",
       "1             466              W 25 St & 6 Ave             40.743954   \n",
       "2            3107     Bedford Ave & Nassau Ave             40.723117   \n",
       "\n",
       "   end station longitude  bikeid    usertype  birth year  gender  \n",
       "0             -74.008591   17431    Customer         NaN       0  \n",
       "1             -73.991449   24159  Subscriber      1984.0       1  \n",
       "2             -73.952123   16345  Subscriber      1986.0       2  "
      ]
     },
     "execution_count": 3,
     "metadata": {},
     "output_type": "execute_result"
    }
   ],
   "source": [
    "df.head(3)"
   ]
  },
  {
   "cell_type": "markdown",
   "metadata": {},
   "source": [
    "If we need to look not the first 3 rows of the `DataFrame`, but the last, then we can use the `tail` method, which, similarly, returns the last 5 rows by default.\n"
   ]
  },
  {
   "cell_type": "code",
   "execution_count": 4,
   "metadata": {},
   "outputs": [
    {
     "data": {
      "text/html": [
       "<div>\n",
       "<style scoped>\n",
       "    .dataframe tbody tr th:only-of-type {\n",
       "        vertical-align: middle;\n",
       "    }\n",
       "\n",
       "    .dataframe tbody tr th {\n",
       "        vertical-align: top;\n",
       "    }\n",
       "\n",
       "    .dataframe thead th {\n",
       "        text-align: right;\n",
       "    }\n",
       "</style>\n",
       "<table border=\"1\" class=\"dataframe\">\n",
       "  <thead>\n",
       "    <tr style=\"text-align: right;\">\n",
       "      <th></th>\n",
       "      <th>tripduration</th>\n",
       "      <th>starttime</th>\n",
       "      <th>stoptime</th>\n",
       "      <th>start station id</th>\n",
       "      <th>start station name</th>\n",
       "      <th>start station latitude</th>\n",
       "      <th>start station longitude</th>\n",
       "      <th>end station id</th>\n",
       "      <th>end station name</th>\n",
       "      <th>end station latitude</th>\n",
       "      <th>end station longitude</th>\n",
       "      <th>bikeid</th>\n",
       "      <th>usertype</th>\n",
       "      <th>birth year</th>\n",
       "      <th>gender</th>\n",
       "    </tr>\n",
       "  </thead>\n",
       "  <tbody>\n",
       "    <tr>\n",
       "      <th>27</th>\n",
       "      <td>1735</td>\n",
       "      <td>7/1/2016 00:02:29</td>\n",
       "      <td>7/1/2016 00:31:24</td>\n",
       "      <td>293</td>\n",
       "      <td>Lafayette St &amp; E 8 St</td>\n",
       "      <td>40.730287</td>\n",
       "      <td>-73.990765</td>\n",
       "      <td>174</td>\n",
       "      <td>E 25 St &amp; 1 Ave</td>\n",
       "      <td>40.738177</td>\n",
       "      <td>-73.977387</td>\n",
       "      <td>19507</td>\n",
       "      <td>Subscriber</td>\n",
       "      <td>1992.0</td>\n",
       "      <td>1</td>\n",
       "    </tr>\n",
       "    <tr>\n",
       "      <th>28</th>\n",
       "      <td>209</td>\n",
       "      <td>7/1/2016 00:02:31</td>\n",
       "      <td>7/1/2016 00:06:01</td>\n",
       "      <td>410</td>\n",
       "      <td>Suffolk St &amp; Stanton St</td>\n",
       "      <td>40.720664</td>\n",
       "      <td>-73.985180</td>\n",
       "      <td>473</td>\n",
       "      <td>Rivington St &amp; Chrystie St</td>\n",
       "      <td>40.721101</td>\n",
       "      <td>-73.991925</td>\n",
       "      <td>25845</td>\n",
       "      <td>Subscriber</td>\n",
       "      <td>1984.0</td>\n",
       "      <td>1</td>\n",
       "    </tr>\n",
       "    <tr>\n",
       "      <th>29</th>\n",
       "      <td>492</td>\n",
       "      <td>7/1/2016 00:02:32</td>\n",
       "      <td>7/1/2016 00:10:44</td>\n",
       "      <td>481</td>\n",
       "      <td>S 3 St &amp; Bedford Ave</td>\n",
       "      <td>40.712605</td>\n",
       "      <td>-73.962644</td>\n",
       "      <td>3109</td>\n",
       "      <td>Banker St &amp; Meserole Ave</td>\n",
       "      <td>40.726060</td>\n",
       "      <td>-73.956210</td>\n",
       "      <td>23648</td>\n",
       "      <td>Subscriber</td>\n",
       "      <td>1991.0</td>\n",
       "      <td>2</td>\n",
       "    </tr>\n",
       "  </tbody>\n",
       "</table>\n",
       "</div>"
      ],
      "text/plain": [
       "    tripduration          starttime           stoptime  start station id  \\\n",
       "27          1735  7/1/2016 00:02:29  7/1/2016 00:31:24               293   \n",
       "28           209  7/1/2016 00:02:31  7/1/2016 00:06:01               410   \n",
       "29           492  7/1/2016 00:02:32  7/1/2016 00:10:44               481   \n",
       "\n",
       "         start station name  start station latitude  start station longitude  \\\n",
       "27    Lafayette St & E 8 St               40.730287               -73.990765   \n",
       "28  Suffolk St & Stanton St               40.720664               -73.985180   \n",
       "29     S 3 St & Bedford Ave               40.712605               -73.962644   \n",
       "\n",
       "    end station id            end station name  end station latitude  \\\n",
       "27             174             E 25 St & 1 Ave             40.738177   \n",
       "28             473  Rivington St & Chrystie St             40.721101   \n",
       "29            3109    Banker St & Meserole Ave             40.726060   \n",
       "\n",
       "    end station longitude  bikeid    usertype  birth year  gender  \n",
       "27             -73.977387   19507  Subscriber      1992.0       1  \n",
       "28             -73.991925   25845  Subscriber      1984.0       1  \n",
       "29             -73.956210   23648  Subscriber      1991.0       2  "
      ]
     },
     "execution_count": 4,
     "metadata": {},
     "output_type": "execute_result"
    }
   ],
   "source": [
    "df.tail(3)\n"
   ]
  },
  {
   "cell_type": "markdown",
   "metadata": {},
   "source": [
    "In addition, we can see `DataFrame`'s dimensions"
   ]
  },
  {
   "cell_type": "code",
   "execution_count": 5,
   "metadata": {},
   "outputs": [
    {
     "data": {
      "text/plain": [
       "(30, 15)"
      ]
     },
     "execution_count": 5,
     "metadata": {},
     "output_type": "execute_result"
    }
   ],
   "source": [
    "df.shape\n"
   ]
  },
  {
   "cell_type": "markdown",
   "metadata": {},
   "source": [
    "We also can print the name of the columns "
   ]
  },
  {
   "cell_type": "code",
   "execution_count": 6,
   "metadata": {
    "scrolled": false
   },
   "outputs": [
    {
     "data": {
      "text/plain": [
       "Index(['tripduration', 'starttime', 'stoptime', 'start station id',\n",
       "       'start station name', 'start station latitude',\n",
       "       'start station longitude', 'end station id', 'end station name',\n",
       "       'end station latitude', 'end station longitude', 'bikeid', 'usertype',\n",
       "       'birth year', 'gender'],\n",
       "      dtype='object')"
      ]
     },
     "execution_count": 6,
     "metadata": {},
     "output_type": "execute_result"
    }
   ],
   "source": [
    "df.columns\n"
   ]
  },
  {
   "cell_type": "markdown",
   "metadata": {},
   "source": [
    "and we can also see what **data types** are in our ``DataFrame``"
   ]
  },
  {
   "cell_type": "code",
   "execution_count": 7,
   "metadata": {},
   "outputs": [
    {
     "data": {
      "text/plain": [
       "tripduration                 int64\n",
       "starttime                   object\n",
       "stoptime                    object\n",
       "start station id             int64\n",
       "start station name          object\n",
       "start station latitude     float64\n",
       "start station longitude    float64\n",
       "end station id               int64\n",
       "end station name            object\n",
       "end station latitude       float64\n",
       "end station longitude      float64\n",
       "bikeid                       int64\n",
       "usertype                    object\n",
       "birth year                 float64\n",
       "gender                       int64\n",
       "dtype: object"
      ]
     },
     "execution_count": 7,
     "metadata": {},
     "output_type": "execute_result"
    }
   ],
   "source": [
    "df.dtypes"
   ]
  },
  {
   "cell_type": "markdown",
   "metadata": {},
   "source": [
    "It is also possible to display not the entire ``DataFrame``, but **some columns**. To do this, we need to specify the list of the columns and pass them.\n"
   ]
  },
  {
   "cell_type": "code",
   "execution_count": 8,
   "metadata": {},
   "outputs": [
    {
     "data": {
      "text/html": [
       "<div>\n",
       "<style scoped>\n",
       "    .dataframe tbody tr th:only-of-type {\n",
       "        vertical-align: middle;\n",
       "    }\n",
       "\n",
       "    .dataframe tbody tr th {\n",
       "        vertical-align: top;\n",
       "    }\n",
       "\n",
       "    .dataframe thead th {\n",
       "        text-align: right;\n",
       "    }\n",
       "</style>\n",
       "<table border=\"1\" class=\"dataframe\">\n",
       "  <thead>\n",
       "    <tr style=\"text-align: right;\">\n",
       "      <th></th>\n",
       "      <th>starttime</th>\n",
       "      <th>start station name</th>\n",
       "    </tr>\n",
       "  </thead>\n",
       "  <tbody>\n",
       "    <tr>\n",
       "      <th>0</th>\n",
       "      <td>7/1/2016 00:00:02</td>\n",
       "      <td>W 20 St &amp; 11 Ave</td>\n",
       "    </tr>\n",
       "    <tr>\n",
       "      <th>1</th>\n",
       "      <td>7/1/2016 00:00:18</td>\n",
       "      <td>Lafayette St &amp; E 8 St</td>\n",
       "    </tr>\n",
       "    <tr>\n",
       "      <th>2</th>\n",
       "      <td>7/1/2016 00:00:19</td>\n",
       "      <td>N 8 St &amp; Driggs Ave</td>\n",
       "    </tr>\n",
       "    <tr>\n",
       "      <th>3</th>\n",
       "      <td>7/1/2016 00:00:24</td>\n",
       "      <td>W 20 St &amp; 11 Ave</td>\n",
       "    </tr>\n",
       "    <tr>\n",
       "      <th>4</th>\n",
       "      <td>7/1/2016 00:00:31</td>\n",
       "      <td>Greenwich Ave &amp; 8 Ave</td>\n",
       "    </tr>\n",
       "  </tbody>\n",
       "</table>\n",
       "</div>"
      ],
      "text/plain": [
       "           starttime     start station name\n",
       "0  7/1/2016 00:00:02       W 20 St & 11 Ave\n",
       "1  7/1/2016 00:00:18  Lafayette St & E 8 St\n",
       "2  7/1/2016 00:00:19    N 8 St & Driggs Ave\n",
       "3  7/1/2016 00:00:24       W 20 St & 11 Ave\n",
       "4  7/1/2016 00:00:31  Greenwich Ave & 8 Ave"
      ]
     },
     "execution_count": 8,
     "metadata": {},
     "output_type": "execute_result"
    }
   ],
   "source": [
    "df[['starttime', 'start station name']].head()"
   ]
  },
  {
   "cell_type": "markdown",
   "metadata": {},
   "source": [
    "To refer to elements in Pandas implemented\n",
    "methods such as `` loc`` and ``iloc``. ``iloc`` allows addressing to the elements by **implicit** index.\n",
    "Let's say, if we need to pull out the values stored in the very last line, we\n",
    "we can specify the index -1 in ``iloc``, and the last line will be returned.\n"
   ]
  },
  {
   "cell_type": "code",
   "execution_count": 9,
   "metadata": {},
   "outputs": [
    {
     "data": {
      "text/plain": [
       "tripduration                                    492\n",
       "starttime                         7/1/2016 00:02:32\n",
       "stoptime                          7/1/2016 00:10:44\n",
       "start station id                                481\n",
       "start station name             S 3 St & Bedford Ave\n",
       "start station latitude                      40.7126\n",
       "start station longitude                    -73.9626\n",
       "end station id                                 3109\n",
       "end station name           Banker St & Meserole Ave\n",
       "end station latitude                        40.7261\n",
       "end station longitude                      -73.9562\n",
       "bikeid                                        23648\n",
       "usertype                                 Subscriber\n",
       "birth year                                     1991\n",
       "gender                                            2\n",
       "Name: 29, dtype: object"
      ]
     },
     "execution_count": 9,
     "metadata": {},
     "output_type": "execute_result"
    }
   ],
   "source": [
    "df.iloc[-1]\n"
   ]
  },
  {
   "cell_type": "code",
   "execution_count": 10,
   "metadata": {},
   "outputs": [
    {
     "data": {
      "text/html": [
       "<div>\n",
       "<style scoped>\n",
       "    .dataframe tbody tr th:only-of-type {\n",
       "        vertical-align: middle;\n",
       "    }\n",
       "\n",
       "    .dataframe tbody tr th {\n",
       "        vertical-align: top;\n",
       "    }\n",
       "\n",
       "    .dataframe thead th {\n",
       "        text-align: right;\n",
       "    }\n",
       "</style>\n",
       "<table border=\"1\" class=\"dataframe\">\n",
       "  <thead>\n",
       "    <tr style=\"text-align: right;\">\n",
       "      <th></th>\n",
       "      <th>tripduration</th>\n",
       "      <th>starttime</th>\n",
       "      <th>stoptime</th>\n",
       "      <th>start station id</th>\n",
       "      <th>start station name</th>\n",
       "      <th>start station latitude</th>\n",
       "      <th>start station longitude</th>\n",
       "      <th>end station id</th>\n",
       "      <th>end station name</th>\n",
       "      <th>end station latitude</th>\n",
       "      <th>end station longitude</th>\n",
       "      <th>bikeid</th>\n",
       "      <th>usertype</th>\n",
       "      <th>birth year</th>\n",
       "      <th>gender</th>\n",
       "    </tr>\n",
       "  </thead>\n",
       "  <tbody>\n",
       "    <tr>\n",
       "      <th>29</th>\n",
       "      <td>492</td>\n",
       "      <td>7/1/2016 00:02:32</td>\n",
       "      <td>7/1/2016 00:10:44</td>\n",
       "      <td>481</td>\n",
       "      <td>S 3 St &amp; Bedford Ave</td>\n",
       "      <td>40.712605</td>\n",
       "      <td>-73.962644</td>\n",
       "      <td>3109</td>\n",
       "      <td>Banker St &amp; Meserole Ave</td>\n",
       "      <td>40.72606</td>\n",
       "      <td>-73.95621</td>\n",
       "      <td>23648</td>\n",
       "      <td>Subscriber</td>\n",
       "      <td>1991.0</td>\n",
       "      <td>2</td>\n",
       "    </tr>\n",
       "  </tbody>\n",
       "</table>\n",
       "</div>"
      ],
      "text/plain": [
       "    tripduration          starttime           stoptime  start station id  \\\n",
       "29           492  7/1/2016 00:02:32  7/1/2016 00:10:44               481   \n",
       "\n",
       "      start station name  start station latitude  start station longitude  \\\n",
       "29  S 3 St & Bedford Ave               40.712605               -73.962644   \n",
       "\n",
       "    end station id          end station name  end station latitude  \\\n",
       "29            3109  Banker St & Meserole Ave              40.72606   \n",
       "\n",
       "    end station longitude  bikeid    usertype  birth year  gender  \n",
       "29              -73.95621   23648  Subscriber      1991.0       2  "
      ]
     },
     "execution_count": 10,
     "metadata": {},
     "output_type": "execute_result"
    }
   ],
   "source": [
    "df.iloc[[-1]]\n"
   ]
  },
  {
   "cell_type": "markdown",
   "metadata": {},
   "source": [
    "The``loc`` method differs  from ``iloc`` in that we can specify slices by label.\n"
   ]
  },
  {
   "cell_type": "code",
   "execution_count": 11,
   "metadata": {},
   "outputs": [
    {
     "data": {
      "text/plain": [
       "492"
      ]
     },
     "execution_count": 11,
     "metadata": {},
     "output_type": "execute_result"
    }
   ],
   "source": [
    "df.loc[1,'tripduration']\n"
   ]
  },
  {
   "cell_type": "code",
   "execution_count": 12,
   "metadata": {},
   "outputs": [
    {
     "data": {
      "text/plain": [
       "tripduration    492\n",
       "Name: 1, dtype: object"
      ]
     },
     "execution_count": 12,
     "metadata": {},
     "output_type": "execute_result"
    }
   ],
   "source": [
    "df.loc[1,['tripduration']]"
   ]
  },
  {
   "cell_type": "markdown",
   "metadata": {},
   "source": [
    "If we want to filter using the ``iloc`` method, specifying the boundaries, then we do not include\n",
    "boundary values. The ``loc`` method works in other way - it includes boundary values. Compare\n"
   ]
  },
  {
   "cell_type": "code",
   "execution_count": 13,
   "metadata": {},
   "outputs": [
    {
     "data": {
      "text/html": [
       "<div>\n",
       "<style scoped>\n",
       "    .dataframe tbody tr th:only-of-type {\n",
       "        vertical-align: middle;\n",
       "    }\n",
       "\n",
       "    .dataframe tbody tr th {\n",
       "        vertical-align: top;\n",
       "    }\n",
       "\n",
       "    .dataframe thead th {\n",
       "        text-align: right;\n",
       "    }\n",
       "</style>\n",
       "<table border=\"1\" class=\"dataframe\">\n",
       "  <thead>\n",
       "    <tr style=\"text-align: right;\">\n",
       "      <th></th>\n",
       "      <th>tripduration</th>\n",
       "      <th>starttime</th>\n",
       "      <th>stoptime</th>\n",
       "      <th>start station id</th>\n",
       "    </tr>\n",
       "  </thead>\n",
       "  <tbody>\n",
       "    <tr>\n",
       "      <th>0</th>\n",
       "      <td>704</td>\n",
       "      <td>7/1/2016 00:00:02</td>\n",
       "      <td>7/1/2016 00:11:47</td>\n",
       "      <td>459</td>\n",
       "    </tr>\n",
       "    <tr>\n",
       "      <th>1</th>\n",
       "      <td>492</td>\n",
       "      <td>7/1/2016 00:00:18</td>\n",
       "      <td>7/1/2016 00:08:31</td>\n",
       "      <td>293</td>\n",
       "    </tr>\n",
       "    <tr>\n",
       "      <th>2</th>\n",
       "      <td>191</td>\n",
       "      <td>7/1/2016 00:00:19</td>\n",
       "      <td>7/1/2016 00:03:31</td>\n",
       "      <td>3090</td>\n",
       "    </tr>\n",
       "    <tr>\n",
       "      <th>3</th>\n",
       "      <td>687</td>\n",
       "      <td>7/1/2016 00:00:24</td>\n",
       "      <td>7/1/2016 00:11:52</td>\n",
       "      <td>459</td>\n",
       "    </tr>\n",
       "    <tr>\n",
       "      <th>4</th>\n",
       "      <td>609</td>\n",
       "      <td>7/1/2016 00:00:31</td>\n",
       "      <td>7/1/2016 00:10:40</td>\n",
       "      <td>284</td>\n",
       "    </tr>\n",
       "    <tr>\n",
       "      <th>5</th>\n",
       "      <td>672</td>\n",
       "      <td>7/1/2016 00:00:45</td>\n",
       "      <td>7/1/2016 00:11:57</td>\n",
       "      <td>459</td>\n",
       "    </tr>\n",
       "  </tbody>\n",
       "</table>\n",
       "</div>"
      ],
      "text/plain": [
       "   tripduration          starttime           stoptime  start station id\n",
       "0           704  7/1/2016 00:00:02  7/1/2016 00:11:47               459\n",
       "1           492  7/1/2016 00:00:18  7/1/2016 00:08:31               293\n",
       "2           191  7/1/2016 00:00:19  7/1/2016 00:03:31              3090\n",
       "3           687  7/1/2016 00:00:24  7/1/2016 00:11:52               459\n",
       "4           609  7/1/2016 00:00:31  7/1/2016 00:10:40               284\n",
       "5           672  7/1/2016 00:00:45  7/1/2016 00:11:57               459"
      ]
     },
     "execution_count": 13,
     "metadata": {},
     "output_type": "execute_result"
    }
   ],
   "source": [
    "df.iloc[0:6,0:4]"
   ]
  },
  {
   "cell_type": "code",
   "execution_count": 14,
   "metadata": {},
   "outputs": [
    {
     "data": {
      "text/html": [
       "<div>\n",
       "<style scoped>\n",
       "    .dataframe tbody tr th:only-of-type {\n",
       "        vertical-align: middle;\n",
       "    }\n",
       "\n",
       "    .dataframe tbody tr th {\n",
       "        vertical-align: top;\n",
       "    }\n",
       "\n",
       "    .dataframe thead th {\n",
       "        text-align: right;\n",
       "    }\n",
       "</style>\n",
       "<table border=\"1\" class=\"dataframe\">\n",
       "  <thead>\n",
       "    <tr style=\"text-align: right;\">\n",
       "      <th></th>\n",
       "      <th>tripduration</th>\n",
       "      <th>starttime</th>\n",
       "      <th>stoptime</th>\n",
       "      <th>start station id</th>\n",
       "      <th>start station name</th>\n",
       "      <th>start station latitude</th>\n",
       "      <th>start station longitude</th>\n",
       "    </tr>\n",
       "  </thead>\n",
       "  <tbody>\n",
       "    <tr>\n",
       "      <th>0</th>\n",
       "      <td>704</td>\n",
       "      <td>7/1/2016 00:00:02</td>\n",
       "      <td>7/1/2016 00:11:47</td>\n",
       "      <td>459</td>\n",
       "      <td>W 20 St &amp; 11 Ave</td>\n",
       "      <td>40.746745</td>\n",
       "      <td>-74.007756</td>\n",
       "    </tr>\n",
       "    <tr>\n",
       "      <th>1</th>\n",
       "      <td>492</td>\n",
       "      <td>7/1/2016 00:00:18</td>\n",
       "      <td>7/1/2016 00:08:31</td>\n",
       "      <td>293</td>\n",
       "      <td>Lafayette St &amp; E 8 St</td>\n",
       "      <td>40.730287</td>\n",
       "      <td>-73.990765</td>\n",
       "    </tr>\n",
       "    <tr>\n",
       "      <th>2</th>\n",
       "      <td>191</td>\n",
       "      <td>7/1/2016 00:00:19</td>\n",
       "      <td>7/1/2016 00:03:31</td>\n",
       "      <td>3090</td>\n",
       "      <td>N 8 St &amp; Driggs Ave</td>\n",
       "      <td>40.717746</td>\n",
       "      <td>-73.956001</td>\n",
       "    </tr>\n",
       "    <tr>\n",
       "      <th>3</th>\n",
       "      <td>687</td>\n",
       "      <td>7/1/2016 00:00:24</td>\n",
       "      <td>7/1/2016 00:11:52</td>\n",
       "      <td>459</td>\n",
       "      <td>W 20 St &amp; 11 Ave</td>\n",
       "      <td>40.746745</td>\n",
       "      <td>-74.007756</td>\n",
       "    </tr>\n",
       "    <tr>\n",
       "      <th>4</th>\n",
       "      <td>609</td>\n",
       "      <td>7/1/2016 00:00:31</td>\n",
       "      <td>7/1/2016 00:10:40</td>\n",
       "      <td>284</td>\n",
       "      <td>Greenwich Ave &amp; 8 Ave</td>\n",
       "      <td>40.739017</td>\n",
       "      <td>-74.002638</td>\n",
       "    </tr>\n",
       "    <tr>\n",
       "      <th>5</th>\n",
       "      <td>672</td>\n",
       "      <td>7/1/2016 00:00:45</td>\n",
       "      <td>7/1/2016 00:11:57</td>\n",
       "      <td>459</td>\n",
       "      <td>W 20 St &amp; 11 Ave</td>\n",
       "      <td>40.746745</td>\n",
       "      <td>-74.007756</td>\n",
       "    </tr>\n",
       "    <tr>\n",
       "      <th>6</th>\n",
       "      <td>466</td>\n",
       "      <td>7/1/2016 00:00:49</td>\n",
       "      <td>7/1/2016 00:08:35</td>\n",
       "      <td>128</td>\n",
       "      <td>MacDougal St &amp; Prince St</td>\n",
       "      <td>40.727103</td>\n",
       "      <td>-74.002971</td>\n",
       "    </tr>\n",
       "  </tbody>\n",
       "</table>\n",
       "</div>"
      ],
      "text/plain": [
       "   tripduration          starttime           stoptime  start station id  \\\n",
       "0           704  7/1/2016 00:00:02  7/1/2016 00:11:47               459   \n",
       "1           492  7/1/2016 00:00:18  7/1/2016 00:08:31               293   \n",
       "2           191  7/1/2016 00:00:19  7/1/2016 00:03:31              3090   \n",
       "3           687  7/1/2016 00:00:24  7/1/2016 00:11:52               459   \n",
       "4           609  7/1/2016 00:00:31  7/1/2016 00:10:40               284   \n",
       "5           672  7/1/2016 00:00:45  7/1/2016 00:11:57               459   \n",
       "6           466  7/1/2016 00:00:49  7/1/2016 00:08:35               128   \n",
       "\n",
       "         start station name  start station latitude  start station longitude  \n",
       "0          W 20 St & 11 Ave               40.746745               -74.007756  \n",
       "1     Lafayette St & E 8 St               40.730287               -73.990765  \n",
       "2       N 8 St & Driggs Ave               40.717746               -73.956001  \n",
       "3          W 20 St & 11 Ave               40.746745               -74.007756  \n",
       "4     Greenwich Ave & 8 Ave               40.739017               -74.002638  \n",
       "5          W 20 St & 11 Ave               40.746745               -74.007756  \n",
       "6  MacDougal St & Prince St               40.727103               -74.002971  "
      ]
     },
     "execution_count": 14,
     "metadata": {},
     "output_type": "execute_result"
    }
   ],
   "source": [
    "df.loc[0:6, 'tripduration':'start station longitude']"
   ]
  },
  {
   "cell_type": "markdown",
   "metadata": {},
   "source": [
    "Often, when working with a `DataFrame`, we are faced with the fact that we need to select some rows satisfying some conditions.\n",
    "How can I do that? We need to create a mask that will be our condition and pass it as an index to our `DataFrame`. You can also create multiple conditions for filtration.\n"
   ]
  },
  {
   "cell_type": "code",
   "execution_count": 15,
   "metadata": {},
   "outputs": [
    {
     "data": {
      "text/html": [
       "<div>\n",
       "<style scoped>\n",
       "    .dataframe tbody tr th:only-of-type {\n",
       "        vertical-align: middle;\n",
       "    }\n",
       "\n",
       "    .dataframe tbody tr th {\n",
       "        vertical-align: top;\n",
       "    }\n",
       "\n",
       "    .dataframe thead th {\n",
       "        text-align: right;\n",
       "    }\n",
       "</style>\n",
       "<table border=\"1\" class=\"dataframe\">\n",
       "  <thead>\n",
       "    <tr style=\"text-align: right;\">\n",
       "      <th></th>\n",
       "      <th>tripduration</th>\n",
       "      <th>starttime</th>\n",
       "      <th>stoptime</th>\n",
       "      <th>start station id</th>\n",
       "      <th>start station name</th>\n",
       "      <th>start station latitude</th>\n",
       "      <th>start station longitude</th>\n",
       "      <th>end station id</th>\n",
       "      <th>end station name</th>\n",
       "      <th>end station latitude</th>\n",
       "      <th>end station longitude</th>\n",
       "      <th>bikeid</th>\n",
       "      <th>usertype</th>\n",
       "      <th>birth year</th>\n",
       "      <th>gender</th>\n",
       "    </tr>\n",
       "  </thead>\n",
       "  <tbody>\n",
       "    <tr>\n",
       "      <th>1</th>\n",
       "      <td>492</td>\n",
       "      <td>7/1/2016 00:00:18</td>\n",
       "      <td>7/1/2016 00:08:31</td>\n",
       "      <td>293</td>\n",
       "      <td>Lafayette St &amp; E 8 St</td>\n",
       "      <td>40.730287</td>\n",
       "      <td>-73.990765</td>\n",
       "      <td>466</td>\n",
       "      <td>W 25 St &amp; 6 Ave</td>\n",
       "      <td>40.743954</td>\n",
       "      <td>-73.991449</td>\n",
       "      <td>24159</td>\n",
       "      <td>Subscriber</td>\n",
       "      <td>1984.0</td>\n",
       "      <td>1</td>\n",
       "    </tr>\n",
       "    <tr>\n",
       "      <th>2</th>\n",
       "      <td>191</td>\n",
       "      <td>7/1/2016 00:00:19</td>\n",
       "      <td>7/1/2016 00:03:31</td>\n",
       "      <td>3090</td>\n",
       "      <td>N 8 St &amp; Driggs Ave</td>\n",
       "      <td>40.717746</td>\n",
       "      <td>-73.956001</td>\n",
       "      <td>3107</td>\n",
       "      <td>Bedford Ave &amp; Nassau Ave</td>\n",
       "      <td>40.723117</td>\n",
       "      <td>-73.952123</td>\n",
       "      <td>16345</td>\n",
       "      <td>Subscriber</td>\n",
       "      <td>1986.0</td>\n",
       "      <td>2</td>\n",
       "    </tr>\n",
       "    <tr>\n",
       "      <th>5</th>\n",
       "      <td>672</td>\n",
       "      <td>7/1/2016 00:00:45</td>\n",
       "      <td>7/1/2016 00:11:57</td>\n",
       "      <td>459</td>\n",
       "      <td>W 20 St &amp; 11 Ave</td>\n",
       "      <td>40.746745</td>\n",
       "      <td>-74.007756</td>\n",
       "      <td>347</td>\n",
       "      <td>Greenwich St &amp; W Houston St</td>\n",
       "      <td>40.728846</td>\n",
       "      <td>-74.008591</td>\n",
       "      <td>15444</td>\n",
       "      <td>Subscriber</td>\n",
       "      <td>1991.0</td>\n",
       "      <td>1</td>\n",
       "    </tr>\n",
       "    <tr>\n",
       "      <th>6</th>\n",
       "      <td>466</td>\n",
       "      <td>7/1/2016 00:00:49</td>\n",
       "      <td>7/1/2016 00:08:35</td>\n",
       "      <td>128</td>\n",
       "      <td>MacDougal St &amp; Prince St</td>\n",
       "      <td>40.727103</td>\n",
       "      <td>-74.002971</td>\n",
       "      <td>250</td>\n",
       "      <td>Lafayette St &amp; Jersey St N</td>\n",
       "      <td>40.724561</td>\n",
       "      <td>-73.995653</td>\n",
       "      <td>14676</td>\n",
       "      <td>Subscriber</td>\n",
       "      <td>1989.0</td>\n",
       "      <td>1</td>\n",
       "    </tr>\n",
       "    <tr>\n",
       "      <th>7</th>\n",
       "      <td>556</td>\n",
       "      <td>7/1/2016 00:00:51</td>\n",
       "      <td>7/1/2016 00:10:07</td>\n",
       "      <td>433</td>\n",
       "      <td>E 13 St &amp; Avenue A</td>\n",
       "      <td>40.729554</td>\n",
       "      <td>-73.980572</td>\n",
       "      <td>284</td>\n",
       "      <td>Greenwich Ave &amp; 8 Ave</td>\n",
       "      <td>40.739017</td>\n",
       "      <td>-74.002638</td>\n",
       "      <td>25755</td>\n",
       "      <td>Subscriber</td>\n",
       "      <td>1989.0</td>\n",
       "      <td>1</td>\n",
       "    </tr>\n",
       "  </tbody>\n",
       "</table>\n",
       "</div>"
      ],
      "text/plain": [
       "   tripduration          starttime           stoptime  start station id  \\\n",
       "1           492  7/1/2016 00:00:18  7/1/2016 00:08:31               293   \n",
       "2           191  7/1/2016 00:00:19  7/1/2016 00:03:31              3090   \n",
       "5           672  7/1/2016 00:00:45  7/1/2016 00:11:57               459   \n",
       "6           466  7/1/2016 00:00:49  7/1/2016 00:08:35               128   \n",
       "7           556  7/1/2016 00:00:51  7/1/2016 00:10:07               433   \n",
       "\n",
       "         start station name  start station latitude  start station longitude  \\\n",
       "1     Lafayette St & E 8 St               40.730287               -73.990765   \n",
       "2       N 8 St & Driggs Ave               40.717746               -73.956001   \n",
       "5          W 20 St & 11 Ave               40.746745               -74.007756   \n",
       "6  MacDougal St & Prince St               40.727103               -74.002971   \n",
       "7        E 13 St & Avenue A               40.729554               -73.980572   \n",
       "\n",
       "   end station id             end station name  end station latitude  \\\n",
       "1             466              W 25 St & 6 Ave             40.743954   \n",
       "2            3107     Bedford Ave & Nassau Ave             40.723117   \n",
       "5             347  Greenwich St & W Houston St             40.728846   \n",
       "6             250   Lafayette St & Jersey St N             40.724561   \n",
       "7             284        Greenwich Ave & 8 Ave             40.739017   \n",
       "\n",
       "   end station longitude  bikeid    usertype  birth year  gender  \n",
       "1             -73.991449   24159  Subscriber      1984.0       1  \n",
       "2             -73.952123   16345  Subscriber      1986.0       2  \n",
       "5             -74.008591   15444  Subscriber      1991.0       1  \n",
       "6             -73.995653   14676  Subscriber      1989.0       1  \n",
       "7             -74.002638   25755  Subscriber      1989.0       1  "
      ]
     },
     "execution_count": 15,
     "metadata": {},
     "output_type": "execute_result"
    }
   ],
   "source": [
    "df[(df['tripduration'] < 1000) & (df['usertype'] == 'Subscriber')].head()"
   ]
  },
  {
   "cell_type": "markdown",
   "metadata": {},
   "source": [
    "In addition to filtering, Pandas implements several methods that allow you to view statistics for the entire `DataFrame`. For example, using the `describe` method, you can see the average, maximum, minimum value for all columns at once.\n"
   ]
  },
  {
   "cell_type": "code",
   "execution_count": 16,
   "metadata": {},
   "outputs": [
    {
     "data": {
      "text/html": [
       "<div>\n",
       "<style scoped>\n",
       "    .dataframe tbody tr th:only-of-type {\n",
       "        vertical-align: middle;\n",
       "    }\n",
       "\n",
       "    .dataframe tbody tr th {\n",
       "        vertical-align: top;\n",
       "    }\n",
       "\n",
       "    .dataframe thead th {\n",
       "        text-align: right;\n",
       "    }\n",
       "</style>\n",
       "<table border=\"1\" class=\"dataframe\">\n",
       "  <thead>\n",
       "    <tr style=\"text-align: right;\">\n",
       "      <th></th>\n",
       "      <th>tripduration</th>\n",
       "      <th>start station id</th>\n",
       "      <th>start station latitude</th>\n",
       "      <th>start station longitude</th>\n",
       "      <th>end station id</th>\n",
       "      <th>end station latitude</th>\n",
       "      <th>end station longitude</th>\n",
       "      <th>bikeid</th>\n",
       "      <th>birth year</th>\n",
       "      <th>gender</th>\n",
       "    </tr>\n",
       "  </thead>\n",
       "  <tbody>\n",
       "    <tr>\n",
       "      <th>count</th>\n",
       "      <td>30.000000</td>\n",
       "      <td>30.000000</td>\n",
       "      <td>30.000000</td>\n",
       "      <td>30.000000</td>\n",
       "      <td>30.000000</td>\n",
       "      <td>30.000000</td>\n",
       "      <td>30.000000</td>\n",
       "      <td>30.000000</td>\n",
       "      <td>25.000000</td>\n",
       "      <td>30.000000</td>\n",
       "    </tr>\n",
       "    <tr>\n",
       "      <th>mean</th>\n",
       "      <td>797.466667</td>\n",
       "      <td>529.433333</td>\n",
       "      <td>40.731871</td>\n",
       "      <td>-73.992881</td>\n",
       "      <td>573.700000</td>\n",
       "      <td>40.733723</td>\n",
       "      <td>-73.989227</td>\n",
       "      <td>20263.033333</td>\n",
       "      <td>1984.120000</td>\n",
       "      <td>1.066667</td>\n",
       "    </tr>\n",
       "    <tr>\n",
       "      <th>std</th>\n",
       "      <td>558.310860</td>\n",
       "      <td>714.275021</td>\n",
       "      <td>0.018098</td>\n",
       "      <td>0.017158</td>\n",
       "      <td>697.392639</td>\n",
       "      <td>0.015794</td>\n",
       "      <td>0.014889</td>\n",
       "      <td>4047.818548</td>\n",
       "      <td>7.149126</td>\n",
       "      <td>0.639684</td>\n",
       "    </tr>\n",
       "    <tr>\n",
       "      <th>min</th>\n",
       "      <td>191.000000</td>\n",
       "      <td>127.000000</td>\n",
       "      <td>40.690893</td>\n",
       "      <td>-74.009447</td>\n",
       "      <td>174.000000</td>\n",
       "      <td>40.689888</td>\n",
       "      <td>-74.008591</td>\n",
       "      <td>14676.000000</td>\n",
       "      <td>1966.000000</td>\n",
       "      <td>0.000000</td>\n",
       "    </tr>\n",
       "    <tr>\n",
       "      <th>25%</th>\n",
       "      <td>464.500000</td>\n",
       "      <td>269.000000</td>\n",
       "      <td>40.723604</td>\n",
       "      <td>-74.006474</td>\n",
       "      <td>329.500000</td>\n",
       "      <td>40.724936</td>\n",
       "      <td>-74.001034</td>\n",
       "      <td>16399.750000</td>\n",
       "      <td>1981.000000</td>\n",
       "      <td>1.000000</td>\n",
       "    </tr>\n",
       "    <tr>\n",
       "      <th>50%</th>\n",
       "      <td>582.500000</td>\n",
       "      <td>359.500000</td>\n",
       "      <td>40.730380</td>\n",
       "      <td>-73.998004</td>\n",
       "      <td>437.000000</td>\n",
       "      <td>40.734048</td>\n",
       "      <td>-73.990506</td>\n",
       "      <td>19944.000000</td>\n",
       "      <td>1986.000000</td>\n",
       "      <td>1.000000</td>\n",
       "    </tr>\n",
       "    <tr>\n",
       "      <th>75%</th>\n",
       "      <td>1053.000000</td>\n",
       "      <td>459.000000</td>\n",
       "      <td>40.744569</td>\n",
       "      <td>-73.987734</td>\n",
       "      <td>499.250000</td>\n",
       "      <td>40.743291</td>\n",
       "      <td>-73.981754</td>\n",
       "      <td>24031.250000</td>\n",
       "      <td>1989.000000</td>\n",
       "      <td>1.000000</td>\n",
       "    </tr>\n",
       "    <tr>\n",
       "      <th>max</th>\n",
       "      <td>2229.000000</td>\n",
       "      <td>3150.000000</td>\n",
       "      <td>40.775369</td>\n",
       "      <td>-73.948034</td>\n",
       "      <td>3109.000000</td>\n",
       "      <td>40.765849</td>\n",
       "      <td>-73.952123</td>\n",
       "      <td>25925.000000</td>\n",
       "      <td>1994.000000</td>\n",
       "      <td>2.000000</td>\n",
       "    </tr>\n",
       "  </tbody>\n",
       "</table>\n",
       "</div>"
      ],
      "text/plain": [
       "       tripduration  start station id  start station latitude  \\\n",
       "count     30.000000         30.000000               30.000000   \n",
       "mean     797.466667        529.433333               40.731871   \n",
       "std      558.310860        714.275021                0.018098   \n",
       "min      191.000000        127.000000               40.690893   \n",
       "25%      464.500000        269.000000               40.723604   \n",
       "50%      582.500000        359.500000               40.730380   \n",
       "75%     1053.000000        459.000000               40.744569   \n",
       "max     2229.000000       3150.000000               40.775369   \n",
       "\n",
       "       start station longitude  end station id  end station latitude  \\\n",
       "count                30.000000       30.000000             30.000000   \n",
       "mean                -73.992881      573.700000             40.733723   \n",
       "std                   0.017158      697.392639              0.015794   \n",
       "min                 -74.009447      174.000000             40.689888   \n",
       "25%                 -74.006474      329.500000             40.724936   \n",
       "50%                 -73.998004      437.000000             40.734048   \n",
       "75%                 -73.987734      499.250000             40.743291   \n",
       "max                 -73.948034     3109.000000             40.765849   \n",
       "\n",
       "       end station longitude        bikeid   birth year     gender  \n",
       "count              30.000000     30.000000    25.000000  30.000000  \n",
       "mean              -73.989227  20263.033333  1984.120000   1.066667  \n",
       "std                 0.014889   4047.818548     7.149126   0.639684  \n",
       "min               -74.008591  14676.000000  1966.000000   0.000000  \n",
       "25%               -74.001034  16399.750000  1981.000000   1.000000  \n",
       "50%               -73.990506  19944.000000  1986.000000   1.000000  \n",
       "75%               -73.981754  24031.250000  1989.000000   1.000000  \n",
       "max               -73.952123  25925.000000  1994.000000   2.000000  "
      ]
     },
     "execution_count": 16,
     "metadata": {},
     "output_type": "execute_result"
    }
   ],
   "source": [
    "df.describe()\n"
   ]
  },
  {
   "cell_type": "markdown",
   "metadata": {},
   "source": [
    "Quantile is a value that a given random variable does not exceed with a fixed probability. If the probability is given as a percentage, then the quantile is called the percentile. Accordingly, the median is at the 50th percentile, and the first and third quartiles are at the 25th and 75th percentiles, respectively. For example, the phrase \"75% quantile for tripduration is 1053\" means that 75% of trips last no more than 1053 seconds, and 25% of trips last, respectively, more than 1053 seconds.\n"
   ]
  },
  {
   "cell_type": "markdown",
   "metadata": {},
   "source": [
    "Since our `DataFrame` stores not only numeric, but also categorical entities, using the `describe` method, we can also see statistics on them, but you need to specify what type of data we want to see.\n"
   ]
  },
  {
   "cell_type": "code",
   "execution_count": 17,
   "metadata": {},
   "outputs": [
    {
     "data": {
      "text/html": [
       "<div>\n",
       "<style scoped>\n",
       "    .dataframe tbody tr th:only-of-type {\n",
       "        vertical-align: middle;\n",
       "    }\n",
       "\n",
       "    .dataframe tbody tr th {\n",
       "        vertical-align: top;\n",
       "    }\n",
       "\n",
       "    .dataframe thead th {\n",
       "        text-align: right;\n",
       "    }\n",
       "</style>\n",
       "<table border=\"1\" class=\"dataframe\">\n",
       "  <thead>\n",
       "    <tr style=\"text-align: right;\">\n",
       "      <th></th>\n",
       "      <th>starttime</th>\n",
       "      <th>stoptime</th>\n",
       "      <th>start station name</th>\n",
       "      <th>end station name</th>\n",
       "      <th>usertype</th>\n",
       "    </tr>\n",
       "  </thead>\n",
       "  <tbody>\n",
       "    <tr>\n",
       "      <th>count</th>\n",
       "      <td>30</td>\n",
       "      <td>30</td>\n",
       "      <td>30</td>\n",
       "      <td>30</td>\n",
       "      <td>30</td>\n",
       "    </tr>\n",
       "    <tr>\n",
       "      <th>unique</th>\n",
       "      <td>27</td>\n",
       "      <td>30</td>\n",
       "      <td>23</td>\n",
       "      <td>26</td>\n",
       "      <td>2</td>\n",
       "    </tr>\n",
       "    <tr>\n",
       "      <th>top</th>\n",
       "      <td>7/1/2016 00:01:54</td>\n",
       "      <td>7/1/2016 00:11:52</td>\n",
       "      <td>W 20 St &amp; 11 Ave</td>\n",
       "      <td>Greenwich St &amp; W Houston St</td>\n",
       "      <td>Subscriber</td>\n",
       "    </tr>\n",
       "    <tr>\n",
       "      <th>freq</th>\n",
       "      <td>2</td>\n",
       "      <td>1</td>\n",
       "      <td>3</td>\n",
       "      <td>3</td>\n",
       "      <td>25</td>\n",
       "    </tr>\n",
       "  </tbody>\n",
       "</table>\n",
       "</div>"
      ],
      "text/plain": [
       "                starttime           stoptime start station name  \\\n",
       "count                  30                 30                 30   \n",
       "unique                 27                 30                 23   \n",
       "top     7/1/2016 00:01:54  7/1/2016 00:11:52   W 20 St & 11 Ave   \n",
       "freq                    2                  1                  3   \n",
       "\n",
       "                   end station name    usertype  \n",
       "count                            30          30  \n",
       "unique                           26           2  \n",
       "top     Greenwich St & W Houston St  Subscriber  \n",
       "freq                              3          25  "
      ]
     },
     "execution_count": 17,
     "metadata": {},
     "output_type": "execute_result"
    }
   ],
   "source": [
    "df.describe(include=[np.object])"
   ]
  },
  {
   "cell_type": "markdown",
   "metadata": {},
   "source": [
    "The `top` is the most common value. The `freq` is the most common value’s frequency. "
   ]
  },
  {
   "cell_type": "code",
   "execution_count": 18,
   "metadata": {
    "scrolled": true
   },
   "outputs": [
    {
     "data": {
      "text/html": [
       "<div>\n",
       "<style scoped>\n",
       "    .dataframe tbody tr th:only-of-type {\n",
       "        vertical-align: middle;\n",
       "    }\n",
       "\n",
       "    .dataframe tbody tr th {\n",
       "        vertical-align: top;\n",
       "    }\n",
       "\n",
       "    .dataframe thead th {\n",
       "        text-align: right;\n",
       "    }\n",
       "</style>\n",
       "<table border=\"1\" class=\"dataframe\">\n",
       "  <thead>\n",
       "    <tr style=\"text-align: right;\">\n",
       "      <th></th>\n",
       "      <th>tripduration</th>\n",
       "      <th>starttime</th>\n",
       "      <th>stoptime</th>\n",
       "      <th>start station id</th>\n",
       "      <th>start station name</th>\n",
       "      <th>start station latitude</th>\n",
       "      <th>start station longitude</th>\n",
       "      <th>end station id</th>\n",
       "      <th>end station name</th>\n",
       "      <th>end station latitude</th>\n",
       "      <th>end station longitude</th>\n",
       "      <th>bikeid</th>\n",
       "      <th>usertype</th>\n",
       "      <th>birth year</th>\n",
       "      <th>gender</th>\n",
       "    </tr>\n",
       "  </thead>\n",
       "  <tbody>\n",
       "    <tr>\n",
       "      <th>count</th>\n",
       "      <td>30.000000</td>\n",
       "      <td>30</td>\n",
       "      <td>30</td>\n",
       "      <td>30.000000</td>\n",
       "      <td>30</td>\n",
       "      <td>30.000000</td>\n",
       "      <td>30.000000</td>\n",
       "      <td>30.000000</td>\n",
       "      <td>30</td>\n",
       "      <td>30.000000</td>\n",
       "      <td>30.000000</td>\n",
       "      <td>30.000000</td>\n",
       "      <td>30</td>\n",
       "      <td>25.000000</td>\n",
       "      <td>30.000000</td>\n",
       "    </tr>\n",
       "    <tr>\n",
       "      <th>unique</th>\n",
       "      <td>NaN</td>\n",
       "      <td>27</td>\n",
       "      <td>30</td>\n",
       "      <td>NaN</td>\n",
       "      <td>23</td>\n",
       "      <td>NaN</td>\n",
       "      <td>NaN</td>\n",
       "      <td>NaN</td>\n",
       "      <td>26</td>\n",
       "      <td>NaN</td>\n",
       "      <td>NaN</td>\n",
       "      <td>NaN</td>\n",
       "      <td>2</td>\n",
       "      <td>NaN</td>\n",
       "      <td>NaN</td>\n",
       "    </tr>\n",
       "    <tr>\n",
       "      <th>top</th>\n",
       "      <td>NaN</td>\n",
       "      <td>7/1/2016 00:01:54</td>\n",
       "      <td>7/1/2016 00:11:52</td>\n",
       "      <td>NaN</td>\n",
       "      <td>W 20 St &amp; 11 Ave</td>\n",
       "      <td>NaN</td>\n",
       "      <td>NaN</td>\n",
       "      <td>NaN</td>\n",
       "      <td>Greenwich St &amp; W Houston St</td>\n",
       "      <td>NaN</td>\n",
       "      <td>NaN</td>\n",
       "      <td>NaN</td>\n",
       "      <td>Subscriber</td>\n",
       "      <td>NaN</td>\n",
       "      <td>NaN</td>\n",
       "    </tr>\n",
       "    <tr>\n",
       "      <th>freq</th>\n",
       "      <td>NaN</td>\n",
       "      <td>2</td>\n",
       "      <td>1</td>\n",
       "      <td>NaN</td>\n",
       "      <td>3</td>\n",
       "      <td>NaN</td>\n",
       "      <td>NaN</td>\n",
       "      <td>NaN</td>\n",
       "      <td>3</td>\n",
       "      <td>NaN</td>\n",
       "      <td>NaN</td>\n",
       "      <td>NaN</td>\n",
       "      <td>25</td>\n",
       "      <td>NaN</td>\n",
       "      <td>NaN</td>\n",
       "    </tr>\n",
       "    <tr>\n",
       "      <th>mean</th>\n",
       "      <td>797.466667</td>\n",
       "      <td>NaN</td>\n",
       "      <td>NaN</td>\n",
       "      <td>529.433333</td>\n",
       "      <td>NaN</td>\n",
       "      <td>40.731871</td>\n",
       "      <td>-73.992881</td>\n",
       "      <td>573.700000</td>\n",
       "      <td>NaN</td>\n",
       "      <td>40.733723</td>\n",
       "      <td>-73.989227</td>\n",
       "      <td>20263.033333</td>\n",
       "      <td>NaN</td>\n",
       "      <td>1984.120000</td>\n",
       "      <td>1.066667</td>\n",
       "    </tr>\n",
       "    <tr>\n",
       "      <th>std</th>\n",
       "      <td>558.310860</td>\n",
       "      <td>NaN</td>\n",
       "      <td>NaN</td>\n",
       "      <td>714.275021</td>\n",
       "      <td>NaN</td>\n",
       "      <td>0.018098</td>\n",
       "      <td>0.017158</td>\n",
       "      <td>697.392639</td>\n",
       "      <td>NaN</td>\n",
       "      <td>0.015794</td>\n",
       "      <td>0.014889</td>\n",
       "      <td>4047.818548</td>\n",
       "      <td>NaN</td>\n",
       "      <td>7.149126</td>\n",
       "      <td>0.639684</td>\n",
       "    </tr>\n",
       "    <tr>\n",
       "      <th>min</th>\n",
       "      <td>191.000000</td>\n",
       "      <td>NaN</td>\n",
       "      <td>NaN</td>\n",
       "      <td>127.000000</td>\n",
       "      <td>NaN</td>\n",
       "      <td>40.690893</td>\n",
       "      <td>-74.009447</td>\n",
       "      <td>174.000000</td>\n",
       "      <td>NaN</td>\n",
       "      <td>40.689888</td>\n",
       "      <td>-74.008591</td>\n",
       "      <td>14676.000000</td>\n",
       "      <td>NaN</td>\n",
       "      <td>1966.000000</td>\n",
       "      <td>0.000000</td>\n",
       "    </tr>\n",
       "    <tr>\n",
       "      <th>25%</th>\n",
       "      <td>464.500000</td>\n",
       "      <td>NaN</td>\n",
       "      <td>NaN</td>\n",
       "      <td>269.000000</td>\n",
       "      <td>NaN</td>\n",
       "      <td>40.723604</td>\n",
       "      <td>-74.006474</td>\n",
       "      <td>329.500000</td>\n",
       "      <td>NaN</td>\n",
       "      <td>40.724936</td>\n",
       "      <td>-74.001034</td>\n",
       "      <td>16399.750000</td>\n",
       "      <td>NaN</td>\n",
       "      <td>1981.000000</td>\n",
       "      <td>1.000000</td>\n",
       "    </tr>\n",
       "    <tr>\n",
       "      <th>50%</th>\n",
       "      <td>582.500000</td>\n",
       "      <td>NaN</td>\n",
       "      <td>NaN</td>\n",
       "      <td>359.500000</td>\n",
       "      <td>NaN</td>\n",
       "      <td>40.730380</td>\n",
       "      <td>-73.998004</td>\n",
       "      <td>437.000000</td>\n",
       "      <td>NaN</td>\n",
       "      <td>40.734048</td>\n",
       "      <td>-73.990506</td>\n",
       "      <td>19944.000000</td>\n",
       "      <td>NaN</td>\n",
       "      <td>1986.000000</td>\n",
       "      <td>1.000000</td>\n",
       "    </tr>\n",
       "    <tr>\n",
       "      <th>75%</th>\n",
       "      <td>1053.000000</td>\n",
       "      <td>NaN</td>\n",
       "      <td>NaN</td>\n",
       "      <td>459.000000</td>\n",
       "      <td>NaN</td>\n",
       "      <td>40.744569</td>\n",
       "      <td>-73.987734</td>\n",
       "      <td>499.250000</td>\n",
       "      <td>NaN</td>\n",
       "      <td>40.743291</td>\n",
       "      <td>-73.981754</td>\n",
       "      <td>24031.250000</td>\n",
       "      <td>NaN</td>\n",
       "      <td>1989.000000</td>\n",
       "      <td>1.000000</td>\n",
       "    </tr>\n",
       "    <tr>\n",
       "      <th>max</th>\n",
       "      <td>2229.000000</td>\n",
       "      <td>NaN</td>\n",
       "      <td>NaN</td>\n",
       "      <td>3150.000000</td>\n",
       "      <td>NaN</td>\n",
       "      <td>40.775369</td>\n",
       "      <td>-73.948034</td>\n",
       "      <td>3109.000000</td>\n",
       "      <td>NaN</td>\n",
       "      <td>40.765849</td>\n",
       "      <td>-73.952123</td>\n",
       "      <td>25925.000000</td>\n",
       "      <td>NaN</td>\n",
       "      <td>1994.000000</td>\n",
       "      <td>2.000000</td>\n",
       "    </tr>\n",
       "  </tbody>\n",
       "</table>\n",
       "</div>"
      ],
      "text/plain": [
       "        tripduration          starttime           stoptime  start station id  \\\n",
       "count      30.000000                 30                 30         30.000000   \n",
       "unique           NaN                 27                 30               NaN   \n",
       "top              NaN  7/1/2016 00:01:54  7/1/2016 00:11:52               NaN   \n",
       "freq             NaN                  2                  1               NaN   \n",
       "mean      797.466667                NaN                NaN        529.433333   \n",
       "std       558.310860                NaN                NaN        714.275021   \n",
       "min       191.000000                NaN                NaN        127.000000   \n",
       "25%       464.500000                NaN                NaN        269.000000   \n",
       "50%       582.500000                NaN                NaN        359.500000   \n",
       "75%      1053.000000                NaN                NaN        459.000000   \n",
       "max      2229.000000                NaN                NaN       3150.000000   \n",
       "\n",
       "       start station name  start station latitude  start station longitude  \\\n",
       "count                  30               30.000000                30.000000   \n",
       "unique                 23                     NaN                      NaN   \n",
       "top      W 20 St & 11 Ave                     NaN                      NaN   \n",
       "freq                    3                     NaN                      NaN   \n",
       "mean                  NaN               40.731871               -73.992881   \n",
       "std                   NaN                0.018098                 0.017158   \n",
       "min                   NaN               40.690893               -74.009447   \n",
       "25%                   NaN               40.723604               -74.006474   \n",
       "50%                   NaN               40.730380               -73.998004   \n",
       "75%                   NaN               40.744569               -73.987734   \n",
       "max                   NaN               40.775369               -73.948034   \n",
       "\n",
       "        end station id             end station name  end station latitude  \\\n",
       "count        30.000000                           30             30.000000   \n",
       "unique             NaN                           26                   NaN   \n",
       "top                NaN  Greenwich St & W Houston St                   NaN   \n",
       "freq               NaN                            3                   NaN   \n",
       "mean        573.700000                          NaN             40.733723   \n",
       "std         697.392639                          NaN              0.015794   \n",
       "min         174.000000                          NaN             40.689888   \n",
       "25%         329.500000                          NaN             40.724936   \n",
       "50%         437.000000                          NaN             40.734048   \n",
       "75%         499.250000                          NaN             40.743291   \n",
       "max        3109.000000                          NaN             40.765849   \n",
       "\n",
       "        end station longitude        bikeid    usertype   birth year  \\\n",
       "count               30.000000     30.000000          30    25.000000   \n",
       "unique                    NaN           NaN           2          NaN   \n",
       "top                       NaN           NaN  Subscriber          NaN   \n",
       "freq                      NaN           NaN          25          NaN   \n",
       "mean               -73.989227  20263.033333         NaN  1984.120000   \n",
       "std                  0.014889   4047.818548         NaN     7.149126   \n",
       "min                -74.008591  14676.000000         NaN  1966.000000   \n",
       "25%                -74.001034  16399.750000         NaN  1981.000000   \n",
       "50%                -73.990506  19944.000000         NaN  1986.000000   \n",
       "75%                -73.981754  24031.250000         NaN  1989.000000   \n",
       "max                -73.952123  25925.000000         NaN  1994.000000   \n",
       "\n",
       "           gender  \n",
       "count   30.000000  \n",
       "unique        NaN  \n",
       "top           NaN  \n",
       "freq          NaN  \n",
       "mean     1.066667  \n",
       "std      0.639684  \n",
       "min      0.000000  \n",
       "25%      1.000000  \n",
       "50%      1.000000  \n",
       "75%      1.000000  \n",
       "max      2.000000  "
      ]
     },
     "execution_count": 18,
     "metadata": {},
     "output_type": "execute_result"
    }
   ],
   "source": [
    "df.describe(include='all') "
   ]
  },
  {
   "cell_type": "code",
   "execution_count": 19,
   "metadata": {},
   "outputs": [
    {
     "data": {
      "text/html": [
       "<div>\n",
       "<style scoped>\n",
       "    .dataframe tbody tr th:only-of-type {\n",
       "        vertical-align: middle;\n",
       "    }\n",
       "\n",
       "    .dataframe tbody tr th {\n",
       "        vertical-align: top;\n",
       "    }\n",
       "\n",
       "    .dataframe thead th {\n",
       "        text-align: right;\n",
       "    }\n",
       "</style>\n",
       "<table border=\"1\" class=\"dataframe\">\n",
       "  <thead>\n",
       "    <tr style=\"text-align: right;\">\n",
       "      <th></th>\n",
       "      <th>starttime</th>\n",
       "    </tr>\n",
       "  </thead>\n",
       "  <tbody>\n",
       "    <tr>\n",
       "      <th>count</th>\n",
       "      <td>30</td>\n",
       "    </tr>\n",
       "    <tr>\n",
       "      <th>unique</th>\n",
       "      <td>27</td>\n",
       "    </tr>\n",
       "    <tr>\n",
       "      <th>top</th>\n",
       "      <td>7/1/2016 00:01:54</td>\n",
       "    </tr>\n",
       "    <tr>\n",
       "      <th>freq</th>\n",
       "      <td>2</td>\n",
       "    </tr>\n",
       "  </tbody>\n",
       "</table>\n",
       "</div>"
      ],
      "text/plain": [
       "                starttime\n",
       "count                  30\n",
       "unique                 27\n",
       "top     7/1/2016 00:01:54\n",
       "freq                    2"
      ]
     },
     "execution_count": 19,
     "metadata": {},
     "output_type": "execute_result"
    }
   ],
   "source": [
    "df[['starttime']].describe()"
   ]
  },
  {
   "cell_type": "code",
   "execution_count": 20,
   "metadata": {},
   "outputs": [
    {
     "data": {
      "text/html": [
       "<div>\n",
       "<style scoped>\n",
       "    .dataframe tbody tr th:only-of-type {\n",
       "        vertical-align: middle;\n",
       "    }\n",
       "\n",
       "    .dataframe tbody tr th {\n",
       "        vertical-align: top;\n",
       "    }\n",
       "\n",
       "    .dataframe thead th {\n",
       "        text-align: right;\n",
       "    }\n",
       "</style>\n",
       "<table border=\"1\" class=\"dataframe\">\n",
       "  <thead>\n",
       "    <tr style=\"text-align: right;\">\n",
       "      <th></th>\n",
       "      <th>tripduration</th>\n",
       "      <th>starttime</th>\n",
       "      <th>stoptime</th>\n",
       "      <th>start station id</th>\n",
       "      <th>start station name</th>\n",
       "      <th>end station id</th>\n",
       "      <th>end station name</th>\n",
       "      <th>bikeid</th>\n",
       "      <th>usertype</th>\n",
       "      <th>gender</th>\n",
       "    </tr>\n",
       "  </thead>\n",
       "  <tbody>\n",
       "    <tr>\n",
       "      <th>count</th>\n",
       "      <td>30.000000</td>\n",
       "      <td>30</td>\n",
       "      <td>30</td>\n",
       "      <td>30.000000</td>\n",
       "      <td>30</td>\n",
       "      <td>30.000000</td>\n",
       "      <td>30</td>\n",
       "      <td>30.000000</td>\n",
       "      <td>30</td>\n",
       "      <td>30.000000</td>\n",
       "    </tr>\n",
       "    <tr>\n",
       "      <th>unique</th>\n",
       "      <td>NaN</td>\n",
       "      <td>27</td>\n",
       "      <td>30</td>\n",
       "      <td>NaN</td>\n",
       "      <td>23</td>\n",
       "      <td>NaN</td>\n",
       "      <td>26</td>\n",
       "      <td>NaN</td>\n",
       "      <td>2</td>\n",
       "      <td>NaN</td>\n",
       "    </tr>\n",
       "    <tr>\n",
       "      <th>top</th>\n",
       "      <td>NaN</td>\n",
       "      <td>7/1/2016 00:01:54</td>\n",
       "      <td>7/1/2016 00:11:52</td>\n",
       "      <td>NaN</td>\n",
       "      <td>W 20 St &amp; 11 Ave</td>\n",
       "      <td>NaN</td>\n",
       "      <td>Greenwich St &amp; W Houston St</td>\n",
       "      <td>NaN</td>\n",
       "      <td>Subscriber</td>\n",
       "      <td>NaN</td>\n",
       "    </tr>\n",
       "    <tr>\n",
       "      <th>freq</th>\n",
       "      <td>NaN</td>\n",
       "      <td>2</td>\n",
       "      <td>1</td>\n",
       "      <td>NaN</td>\n",
       "      <td>3</td>\n",
       "      <td>NaN</td>\n",
       "      <td>3</td>\n",
       "      <td>NaN</td>\n",
       "      <td>25</td>\n",
       "      <td>NaN</td>\n",
       "    </tr>\n",
       "    <tr>\n",
       "      <th>mean</th>\n",
       "      <td>797.466667</td>\n",
       "      <td>NaN</td>\n",
       "      <td>NaN</td>\n",
       "      <td>529.433333</td>\n",
       "      <td>NaN</td>\n",
       "      <td>573.700000</td>\n",
       "      <td>NaN</td>\n",
       "      <td>20263.033333</td>\n",
       "      <td>NaN</td>\n",
       "      <td>1.066667</td>\n",
       "    </tr>\n",
       "    <tr>\n",
       "      <th>std</th>\n",
       "      <td>558.310860</td>\n",
       "      <td>NaN</td>\n",
       "      <td>NaN</td>\n",
       "      <td>714.275021</td>\n",
       "      <td>NaN</td>\n",
       "      <td>697.392639</td>\n",
       "      <td>NaN</td>\n",
       "      <td>4047.818548</td>\n",
       "      <td>NaN</td>\n",
       "      <td>0.639684</td>\n",
       "    </tr>\n",
       "    <tr>\n",
       "      <th>min</th>\n",
       "      <td>191.000000</td>\n",
       "      <td>NaN</td>\n",
       "      <td>NaN</td>\n",
       "      <td>127.000000</td>\n",
       "      <td>NaN</td>\n",
       "      <td>174.000000</td>\n",
       "      <td>NaN</td>\n",
       "      <td>14676.000000</td>\n",
       "      <td>NaN</td>\n",
       "      <td>0.000000</td>\n",
       "    </tr>\n",
       "    <tr>\n",
       "      <th>10%</th>\n",
       "      <td>325.800000</td>\n",
       "      <td>NaN</td>\n",
       "      <td>NaN</td>\n",
       "      <td>154.100000</td>\n",
       "      <td>NaN</td>\n",
       "      <td>246.200000</td>\n",
       "      <td>NaN</td>\n",
       "      <td>15507.000000</td>\n",
       "      <td>NaN</td>\n",
       "      <td>0.000000</td>\n",
       "    </tr>\n",
       "    <tr>\n",
       "      <th>50%</th>\n",
       "      <td>582.500000</td>\n",
       "      <td>NaN</td>\n",
       "      <td>NaN</td>\n",
       "      <td>359.500000</td>\n",
       "      <td>NaN</td>\n",
       "      <td>437.000000</td>\n",
       "      <td>NaN</td>\n",
       "      <td>19944.000000</td>\n",
       "      <td>NaN</td>\n",
       "      <td>1.000000</td>\n",
       "    </tr>\n",
       "    <tr>\n",
       "      <th>90%</th>\n",
       "      <td>1584.700000</td>\n",
       "      <td>NaN</td>\n",
       "      <td>NaN</td>\n",
       "      <td>516.200000</td>\n",
       "      <td>NaN</td>\n",
       "      <td>540.000000</td>\n",
       "      <td>NaN</td>\n",
       "      <td>25758.300000</td>\n",
       "      <td>NaN</td>\n",
       "      <td>2.000000</td>\n",
       "    </tr>\n",
       "    <tr>\n",
       "      <th>max</th>\n",
       "      <td>2229.000000</td>\n",
       "      <td>NaN</td>\n",
       "      <td>NaN</td>\n",
       "      <td>3150.000000</td>\n",
       "      <td>NaN</td>\n",
       "      <td>3109.000000</td>\n",
       "      <td>NaN</td>\n",
       "      <td>25925.000000</td>\n",
       "      <td>NaN</td>\n",
       "      <td>2.000000</td>\n",
       "    </tr>\n",
       "  </tbody>\n",
       "</table>\n",
       "</div>"
      ],
      "text/plain": [
       "        tripduration          starttime           stoptime  start station id  \\\n",
       "count      30.000000                 30                 30         30.000000   \n",
       "unique           NaN                 27                 30               NaN   \n",
       "top              NaN  7/1/2016 00:01:54  7/1/2016 00:11:52               NaN   \n",
       "freq             NaN                  2                  1               NaN   \n",
       "mean      797.466667                NaN                NaN        529.433333   \n",
       "std       558.310860                NaN                NaN        714.275021   \n",
       "min       191.000000                NaN                NaN        127.000000   \n",
       "10%       325.800000                NaN                NaN        154.100000   \n",
       "50%       582.500000                NaN                NaN        359.500000   \n",
       "90%      1584.700000                NaN                NaN        516.200000   \n",
       "max      2229.000000                NaN                NaN       3150.000000   \n",
       "\n",
       "       start station name  end station id             end station name  \\\n",
       "count                  30       30.000000                           30   \n",
       "unique                 23             NaN                           26   \n",
       "top      W 20 St & 11 Ave             NaN  Greenwich St & W Houston St   \n",
       "freq                    3             NaN                            3   \n",
       "mean                  NaN      573.700000                          NaN   \n",
       "std                   NaN      697.392639                          NaN   \n",
       "min                   NaN      174.000000                          NaN   \n",
       "10%                   NaN      246.200000                          NaN   \n",
       "50%                   NaN      437.000000                          NaN   \n",
       "90%                   NaN      540.000000                          NaN   \n",
       "max                   NaN     3109.000000                          NaN   \n",
       "\n",
       "              bikeid    usertype     gender  \n",
       "count      30.000000          30  30.000000  \n",
       "unique           NaN           2        NaN  \n",
       "top              NaN  Subscriber        NaN  \n",
       "freq             NaN          25        NaN  \n",
       "mean    20263.033333         NaN   1.066667  \n",
       "std      4047.818548         NaN   0.639684  \n",
       "min     14676.000000         NaN   0.000000  \n",
       "10%     15507.000000         NaN   0.000000  \n",
       "50%     19944.000000         NaN   1.000000  \n",
       "90%     25758.300000         NaN   2.000000  \n",
       "max     25925.000000         NaN   2.000000  "
      ]
     },
     "execution_count": 20,
     "metadata": {},
     "output_type": "execute_result"
    }
   ],
   "source": [
    "df.describe(percentiles=[0.1,0.5,0.9],exclude=[np.float64]) "
   ]
  },
  {
   "cell_type": "markdown",
   "metadata": {},
   "source": [
    "Also, when we work, for example, with categorical features, we want to know the ratio of some values. And this can be done using the `value_counts` method."
   ]
  },
  {
   "cell_type": "code",
   "execution_count": 21,
   "metadata": {},
   "outputs": [
    {
     "data": {
      "text/plain": [
       "Subscriber    25\n",
       "Customer       5\n",
       "Name: usertype, dtype: int64"
      ]
     },
     "execution_count": 21,
     "metadata": {},
     "output_type": "execute_result"
    }
   ],
   "source": [
    "df['usertype'].value_counts()"
   ]
  },
  {
   "cell_type": "code",
   "execution_count": 22,
   "metadata": {},
   "outputs": [
    {
     "data": {
      "text/plain": [
       "Subscriber    0.833333\n",
       "Customer      0.166667\n",
       "Name: usertype, dtype: float64"
      ]
     },
     "execution_count": 22,
     "metadata": {},
     "output_type": "execute_result"
    }
   ],
   "source": [
    "df['usertype'].value_counts(normalize=True)"
   ]
  },
  {
   "cell_type": "code",
   "execution_count": 23,
   "metadata": {},
   "outputs": [
    {
     "data": {
      "text/plain": [
       "30"
      ]
     },
     "execution_count": 23,
     "metadata": {},
     "output_type": "execute_result"
    }
   ],
   "source": [
    "df['usertype'].count()"
   ]
  },
  {
   "cell_type": "markdown",
   "metadata": {},
   "source": [
    "And you can also see the number of\n",
    "unique values in some `Series`. This can be done using the `unique` method.\n",
    "\n"
   ]
  },
  {
   "cell_type": "code",
   "execution_count": 24,
   "metadata": {},
   "outputs": [
    {
     "data": {
      "text/plain": [
       "array(['W 20 St & 11 Ave', 'Lafayette St & E 8 St', 'N 8 St & Driggs Ave',\n",
       "       'Greenwich Ave & 8 Ave', 'MacDougal St & Prince St',\n",
       "       'E 13 St & Avenue A', 'W 11 St & 6 Ave', 'W 43 St & 10 Ave',\n",
       "       'Fulton St & Broadway', 'Franklin Ave & Myrtle Ave',\n",
       "       'Maiden Ln & Pearl St', 'E 85 St & York Ave', '6 Ave & Canal St',\n",
       "       'Greenwich St & W Houston St', 'E 33 St & 2 Ave',\n",
       "       'Henry St & Atlantic Ave', 'W 22 St & 8 Ave', '8 Ave & W 33 St',\n",
       "       'W 33 St & 7 Ave', 'E 11 St & 2 Ave', 'Barrow St & Hudson St',\n",
       "       'Suffolk St & Stanton St', 'S 3 St & Bedford Ave'], dtype=object)"
      ]
     },
     "execution_count": 24,
     "metadata": {},
     "output_type": "execute_result"
    }
   ],
   "source": [
    "df['start station name'].unique()\n"
   ]
  },
  {
   "cell_type": "markdown",
   "metadata": {},
   "source": [
    "For number of unique values is `nunique ()` method\n"
   ]
  },
  {
   "cell_type": "code",
   "execution_count": 25,
   "metadata": {},
   "outputs": [
    {
     "data": {
      "text/plain": [
       "23"
      ]
     },
     "execution_count": 25,
     "metadata": {},
     "output_type": "execute_result"
    }
   ],
   "source": [
    "df['start station name'].nunique()"
   ]
  },
  {
   "cell_type": "markdown",
   "metadata": {},
   "source": [
    "You can also find the correlation between columns of the dataset if they are numeric using the method `corr`.\n",
    "\n",
    "$$ r_{xy}=\\frac{\\sum \\left (  x_{i} -\\bar{x}\\right )\\times \\left (  y_{i} -\\bar{y}\\right )}{\\sqrt{\\sum \\left (  x_{i} -\\bar{x}\\right )^{2}\\times \\left (  y_{i} -\\bar{y}\\right )^{2}}} $$\n"
   ]
  },
  {
   "cell_type": "code",
   "execution_count": 26,
   "metadata": {},
   "outputs": [
    {
     "data": {
      "text/html": [
       "<div>\n",
       "<style scoped>\n",
       "    .dataframe tbody tr th:only-of-type {\n",
       "        vertical-align: middle;\n",
       "    }\n",
       "\n",
       "    .dataframe tbody tr th {\n",
       "        vertical-align: top;\n",
       "    }\n",
       "\n",
       "    .dataframe thead th {\n",
       "        text-align: right;\n",
       "    }\n",
       "</style>\n",
       "<table border=\"1\" class=\"dataframe\">\n",
       "  <thead>\n",
       "    <tr style=\"text-align: right;\">\n",
       "      <th></th>\n",
       "      <th>tripduration</th>\n",
       "      <th>start station id</th>\n",
       "      <th>start station latitude</th>\n",
       "      <th>start station longitude</th>\n",
       "      <th>end station id</th>\n",
       "      <th>end station latitude</th>\n",
       "      <th>end station longitude</th>\n",
       "      <th>bikeid</th>\n",
       "      <th>birth year</th>\n",
       "      <th>gender</th>\n",
       "    </tr>\n",
       "  </thead>\n",
       "  <tbody>\n",
       "    <tr>\n",
       "      <th>tripduration</th>\n",
       "      <td>1.000000</td>\n",
       "      <td>0.005958</td>\n",
       "      <td>0.279717</td>\n",
       "      <td>-0.155065</td>\n",
       "      <td>-0.208088</td>\n",
       "      <td>0.443372</td>\n",
       "      <td>-0.015035</td>\n",
       "      <td>-0.083743</td>\n",
       "      <td>0.220732</td>\n",
       "      <td>-0.228435</td>\n",
       "    </tr>\n",
       "    <tr>\n",
       "      <th>start station id</th>\n",
       "      <td>0.005958</td>\n",
       "      <td>1.000000</td>\n",
       "      <td>0.289613</td>\n",
       "      <td>0.678618</td>\n",
       "      <td>0.492051</td>\n",
       "      <td>-0.049569</td>\n",
       "      <td>0.416501</td>\n",
       "      <td>-0.000742</td>\n",
       "      <td>0.201254</td>\n",
       "      <td>0.174797</td>\n",
       "    </tr>\n",
       "    <tr>\n",
       "      <th>start station latitude</th>\n",
       "      <td>0.279717</td>\n",
       "      <td>0.289613</td>\n",
       "      <td>1.000000</td>\n",
       "      <td>-0.020152</td>\n",
       "      <td>-0.220959</td>\n",
       "      <td>0.529299</td>\n",
       "      <td>-0.228736</td>\n",
       "      <td>0.056788</td>\n",
       "      <td>0.369665</td>\n",
       "      <td>-0.214625</td>\n",
       "    </tr>\n",
       "    <tr>\n",
       "      <th>start station longitude</th>\n",
       "      <td>-0.155065</td>\n",
       "      <td>0.678618</td>\n",
       "      <td>-0.020152</td>\n",
       "      <td>1.000000</td>\n",
       "      <td>0.559629</td>\n",
       "      <td>-0.161206</td>\n",
       "      <td>0.728681</td>\n",
       "      <td>0.312968</td>\n",
       "      <td>0.119667</td>\n",
       "      <td>0.332913</td>\n",
       "    </tr>\n",
       "    <tr>\n",
       "      <th>end station id</th>\n",
       "      <td>-0.208088</td>\n",
       "      <td>0.492051</td>\n",
       "      <td>-0.220959</td>\n",
       "      <td>0.559629</td>\n",
       "      <td>1.000000</td>\n",
       "      <td>-0.110345</td>\n",
       "      <td>0.693786</td>\n",
       "      <td>0.032875</td>\n",
       "      <td>0.154493</td>\n",
       "      <td>0.424481</td>\n",
       "    </tr>\n",
       "  </tbody>\n",
       "</table>\n",
       "</div>"
      ],
      "text/plain": [
       "                         tripduration  start station id  \\\n",
       "tripduration                 1.000000          0.005958   \n",
       "start station id             0.005958          1.000000   \n",
       "start station latitude       0.279717          0.289613   \n",
       "start station longitude     -0.155065          0.678618   \n",
       "end station id              -0.208088          0.492051   \n",
       "\n",
       "                         start station latitude  start station longitude  \\\n",
       "tripduration                           0.279717                -0.155065   \n",
       "start station id                       0.289613                 0.678618   \n",
       "start station latitude                 1.000000                -0.020152   \n",
       "start station longitude               -0.020152                 1.000000   \n",
       "end station id                        -0.220959                 0.559629   \n",
       "\n",
       "                         end station id  end station latitude  \\\n",
       "tripduration                  -0.208088              0.443372   \n",
       "start station id               0.492051             -0.049569   \n",
       "start station latitude        -0.220959              0.529299   \n",
       "start station longitude        0.559629             -0.161206   \n",
       "end station id                 1.000000             -0.110345   \n",
       "\n",
       "                         end station longitude    bikeid  birth year    gender  \n",
       "tripduration                         -0.015035 -0.083743    0.220732 -0.228435  \n",
       "start station id                      0.416501 -0.000742    0.201254  0.174797  \n",
       "start station latitude               -0.228736  0.056788    0.369665 -0.214625  \n",
       "start station longitude               0.728681  0.312968    0.119667  0.332913  \n",
       "end station id                        0.693786  0.032875    0.154493  0.424481  "
      ]
     },
     "execution_count": 26,
     "metadata": {},
     "output_type": "execute_result"
    }
   ],
   "source": [
    "df.corr().head()"
   ]
  },
  {
   "cell_type": "markdown",
   "metadata": {},
   "source": [
    "Creation correlation heatmap"
   ]
  },
  {
   "cell_type": "code",
   "execution_count": 27,
   "metadata": {},
   "outputs": [],
   "source": [
    "import matplotlib.pyplot as plt\n",
    "import seaborn as sns\n",
    "%matplotlib inline"
   ]
  },
  {
   "cell_type": "markdown",
   "metadata": {},
   "source": [
    "For whole `DataFrame`"
   ]
  },
  {
   "cell_type": "code",
   "execution_count": 28,
   "metadata": {},
   "outputs": [
    {
     "data": {
      "image/png": "[encoded data removed]",
      "text/plain": [
       "<Figure size 1040x640 with 2 Axes>"
      ]
     },
     "metadata": {
      "needs_background": "light"
     },
     "output_type": "display_data"
    }
   ],
   "source": [
    "plt.figure(figsize=(13,8), dpi= 80)\n",
    "sns.heatmap(df.corr(),annot=True, fmt='.2g', vmin=-1, \n",
    "            vmax=1, cmap= 'plasma')\n",
    "\n",
    "plt.show();"
   ]
  },
  {
   "cell_type": "raw",
   "metadata": {},
   "source": [
    "For certain columns"
   ]
  },
  {
   "cell_type": "code",
   "execution_count": 29,
   "metadata": {},
   "outputs": [
    {
     "data": {
      "image/png": "[encoded data removed]",
      "text/plain": [
       "<Figure size 1040x640 with 2 Axes>"
      ]
     },
     "metadata": {
      "needs_background": "light"
     },
     "output_type": "display_data"
    }
   ],
   "source": [
    "plt.figure(figsize=(13,8), dpi= 80)\n",
    "sns.heatmap(df[['tripduration','birth year','start station latitude','start station id','start station longitude']].corr(),annot=True, fmt='.2g', vmin=-1, \n",
    "            vmax=1, cmap= 'plasma')\n",
    "\n",
    "plt.show();"
   ]
  },
  {
   "cell_type": "markdown",
   "metadata": {},
   "source": [
    "In addition, it happens that you need to make some kind of sample from the original `DataFrame` (if\n",
    "we, for example, have a very large `DataFrame`, and we want to keep some small part).\n",
    "This can be done using the `sample` method, which will select some fraction from the original\n",
    "`DataFrame`.\n",
    "\n",
    "Using number of items:\n",
    "\n"
   ]
  },
  {
   "cell_type": "code",
   "execution_count": 30,
   "metadata": {},
   "outputs": [
    {
     "data": {
      "text/html": [
       "<div>\n",
       "<style scoped>\n",
       "    .dataframe tbody tr th:only-of-type {\n",
       "        vertical-align: middle;\n",
       "    }\n",
       "\n",
       "    .dataframe tbody tr th {\n",
       "        vertical-align: top;\n",
       "    }\n",
       "\n",
       "    .dataframe thead th {\n",
       "        text-align: right;\n",
       "    }\n",
       "</style>\n",
       "<table border=\"1\" class=\"dataframe\">\n",
       "  <thead>\n",
       "    <tr style=\"text-align: right;\">\n",
       "      <th></th>\n",
       "      <th>tripduration</th>\n",
       "      <th>starttime</th>\n",
       "      <th>stoptime</th>\n",
       "      <th>start station id</th>\n",
       "      <th>start station name</th>\n",
       "      <th>start station latitude</th>\n",
       "      <th>start station longitude</th>\n",
       "      <th>end station id</th>\n",
       "      <th>end station name</th>\n",
       "      <th>end station latitude</th>\n",
       "      <th>end station longitude</th>\n",
       "      <th>bikeid</th>\n",
       "      <th>usertype</th>\n",
       "      <th>birth year</th>\n",
       "      <th>gender</th>\n",
       "    </tr>\n",
       "  </thead>\n",
       "  <tbody>\n",
       "    <tr>\n",
       "      <th>18</th>\n",
       "      <td>464</td>\n",
       "      <td>7/1/2016 00:01:56</td>\n",
       "      <td>7/1/2016 00:09:41</td>\n",
       "      <td>527</td>\n",
       "      <td>E 33 St &amp; 2 Ave</td>\n",
       "      <td>40.744023</td>\n",
       "      <td>-73.976056</td>\n",
       "      <td>504</td>\n",
       "      <td>1 Ave &amp; E 16 St</td>\n",
       "      <td>40.732219</td>\n",
       "      <td>-73.981656</td>\n",
       "      <td>17010</td>\n",
       "      <td>Subscriber</td>\n",
       "      <td>1987.0</td>\n",
       "      <td>2</td>\n",
       "    </tr>\n",
       "    <tr>\n",
       "      <th>5</th>\n",
       "      <td>672</td>\n",
       "      <td>7/1/2016 00:00:45</td>\n",
       "      <td>7/1/2016 00:11:57</td>\n",
       "      <td>459</td>\n",
       "      <td>W 20 St &amp; 11 Ave</td>\n",
       "      <td>40.746745</td>\n",
       "      <td>-74.007756</td>\n",
       "      <td>347</td>\n",
       "      <td>Greenwich St &amp; W Houston St</td>\n",
       "      <td>40.728846</td>\n",
       "      <td>-74.008591</td>\n",
       "      <td>15444</td>\n",
       "      <td>Subscriber</td>\n",
       "      <td>1991.0</td>\n",
       "      <td>1</td>\n",
       "    </tr>\n",
       "    <tr>\n",
       "      <th>0</th>\n",
       "      <td>704</td>\n",
       "      <td>7/1/2016 00:00:02</td>\n",
       "      <td>7/1/2016 00:11:47</td>\n",
       "      <td>459</td>\n",
       "      <td>W 20 St &amp; 11 Ave</td>\n",
       "      <td>40.746745</td>\n",
       "      <td>-74.007756</td>\n",
       "      <td>347</td>\n",
       "      <td>Greenwich St &amp; W Houston St</td>\n",
       "      <td>40.728846</td>\n",
       "      <td>-74.008591</td>\n",
       "      <td>17431</td>\n",
       "      <td>Customer</td>\n",
       "      <td>NaN</td>\n",
       "      <td>0</td>\n",
       "    </tr>\n",
       "    <tr>\n",
       "      <th>3</th>\n",
       "      <td>687</td>\n",
       "      <td>7/1/2016 00:00:24</td>\n",
       "      <td>7/1/2016 00:11:52</td>\n",
       "      <td>459</td>\n",
       "      <td>W 20 St &amp; 11 Ave</td>\n",
       "      <td>40.746745</td>\n",
       "      <td>-74.007756</td>\n",
       "      <td>347</td>\n",
       "      <td>Greenwich St &amp; W Houston St</td>\n",
       "      <td>40.728846</td>\n",
       "      <td>-74.008591</td>\n",
       "      <td>25210</td>\n",
       "      <td>Customer</td>\n",
       "      <td>NaN</td>\n",
       "      <td>0</td>\n",
       "    </tr>\n",
       "    <tr>\n",
       "      <th>2</th>\n",
       "      <td>191</td>\n",
       "      <td>7/1/2016 00:00:19</td>\n",
       "      <td>7/1/2016 00:03:31</td>\n",
       "      <td>3090</td>\n",
       "      <td>N 8 St &amp; Driggs Ave</td>\n",
       "      <td>40.717746</td>\n",
       "      <td>-73.956001</td>\n",
       "      <td>3107</td>\n",
       "      <td>Bedford Ave &amp; Nassau Ave</td>\n",
       "      <td>40.723117</td>\n",
       "      <td>-73.952123</td>\n",
       "      <td>16345</td>\n",
       "      <td>Subscriber</td>\n",
       "      <td>1986.0</td>\n",
       "      <td>2</td>\n",
       "    </tr>\n",
       "  </tbody>\n",
       "</table>\n",
       "</div>"
      ],
      "text/plain": [
       "    tripduration          starttime           stoptime  start station id  \\\n",
       "18           464  7/1/2016 00:01:56  7/1/2016 00:09:41               527   \n",
       "5            672  7/1/2016 00:00:45  7/1/2016 00:11:57               459   \n",
       "0            704  7/1/2016 00:00:02  7/1/2016 00:11:47               459   \n",
       "3            687  7/1/2016 00:00:24  7/1/2016 00:11:52               459   \n",
       "2            191  7/1/2016 00:00:19  7/1/2016 00:03:31              3090   \n",
       "\n",
       "     start station name  start station latitude  start station longitude  \\\n",
       "18      E 33 St & 2 Ave               40.744023               -73.976056   \n",
       "5      W 20 St & 11 Ave               40.746745               -74.007756   \n",
       "0      W 20 St & 11 Ave               40.746745               -74.007756   \n",
       "3      W 20 St & 11 Ave               40.746745               -74.007756   \n",
       "2   N 8 St & Driggs Ave               40.717746               -73.956001   \n",
       "\n",
       "    end station id             end station name  end station latitude  \\\n",
       "18             504              1 Ave & E 16 St             40.732219   \n",
       "5              347  Greenwich St & W Houston St             40.728846   \n",
       "0              347  Greenwich St & W Houston St             40.728846   \n",
       "3              347  Greenwich St & W Houston St             40.728846   \n",
       "2             3107     Bedford Ave & Nassau Ave             40.723117   \n",
       "\n",
       "    end station longitude  bikeid    usertype  birth year  gender  \n",
       "18             -73.981656   17010  Subscriber      1987.0       2  \n",
       "5              -74.008591   15444  Subscriber      1991.0       1  \n",
       "0              -74.008591   17431    Customer         NaN       0  \n",
       "3              -74.008591   25210    Customer         NaN       0  \n",
       "2              -73.952123   16345  Subscriber      1986.0       2  "
      ]
     },
     "execution_count": 30,
     "metadata": {},
     "output_type": "execute_result"
    }
   ],
   "source": [
    "df.sample(5)\n"
   ]
  },
  {
   "cell_type": "markdown",
   "metadata": {},
   "source": [
    "Using fraction of axis items to return"
   ]
  },
  {
   "cell_type": "code",
   "execution_count": 31,
   "metadata": {},
   "outputs": [
    {
     "data": {
      "text/html": [
       "<div>\n",
       "<style scoped>\n",
       "    .dataframe tbody tr th:only-of-type {\n",
       "        vertical-align: middle;\n",
       "    }\n",
       "\n",
       "    .dataframe tbody tr th {\n",
       "        vertical-align: top;\n",
       "    }\n",
       "\n",
       "    .dataframe thead th {\n",
       "        text-align: right;\n",
       "    }\n",
       "</style>\n",
       "<table border=\"1\" class=\"dataframe\">\n",
       "  <thead>\n",
       "    <tr style=\"text-align: right;\">\n",
       "      <th></th>\n",
       "      <th>tripduration</th>\n",
       "      <th>starttime</th>\n",
       "      <th>stoptime</th>\n",
       "      <th>start station id</th>\n",
       "      <th>start station name</th>\n",
       "      <th>start station latitude</th>\n",
       "      <th>start station longitude</th>\n",
       "      <th>end station id</th>\n",
       "      <th>end station name</th>\n",
       "      <th>end station latitude</th>\n",
       "      <th>end station longitude</th>\n",
       "      <th>bikeid</th>\n",
       "      <th>usertype</th>\n",
       "      <th>birth year</th>\n",
       "      <th>gender</th>\n",
       "    </tr>\n",
       "  </thead>\n",
       "  <tbody>\n",
       "    <tr>\n",
       "      <th>22</th>\n",
       "      <td>2229</td>\n",
       "      <td>7/1/2016 00:02:04</td>\n",
       "      <td>7/1/2016 00:39:14</td>\n",
       "      <td>453</td>\n",
       "      <td>W 22 St &amp; 8 Ave</td>\n",
       "      <td>40.744751</td>\n",
       "      <td>-73.999154</td>\n",
       "      <td>423</td>\n",
       "      <td>W 54 St &amp; 9 Ave</td>\n",
       "      <td>40.765849</td>\n",
       "      <td>-73.986905</td>\n",
       "      <td>21035</td>\n",
       "      <td>Customer</td>\n",
       "      <td>NaN</td>\n",
       "      <td>0</td>\n",
       "    </tr>\n",
       "    <tr>\n",
       "      <th>6</th>\n",
       "      <td>466</td>\n",
       "      <td>7/1/2016 00:00:49</td>\n",
       "      <td>7/1/2016 00:08:35</td>\n",
       "      <td>128</td>\n",
       "      <td>MacDougal St &amp; Prince St</td>\n",
       "      <td>40.727103</td>\n",
       "      <td>-74.002971</td>\n",
       "      <td>250</td>\n",
       "      <td>Lafayette St &amp; Jersey St N</td>\n",
       "      <td>40.724561</td>\n",
       "      <td>-73.995653</td>\n",
       "      <td>14676</td>\n",
       "      <td>Subscriber</td>\n",
       "      <td>1989.0</td>\n",
       "      <td>1</td>\n",
       "    </tr>\n",
       "    <tr>\n",
       "      <th>19</th>\n",
       "      <td>419</td>\n",
       "      <td>7/1/2016 00:01:59</td>\n",
       "      <td>7/1/2016 00:08:58</td>\n",
       "      <td>128</td>\n",
       "      <td>MacDougal St &amp; Prince St</td>\n",
       "      <td>40.727103</td>\n",
       "      <td>-74.002971</td>\n",
       "      <td>435</td>\n",
       "      <td>W 21 St &amp; 6 Ave</td>\n",
       "      <td>40.741740</td>\n",
       "      <td>-73.994156</td>\n",
       "      <td>18069</td>\n",
       "      <td>Subscriber</td>\n",
       "      <td>1992.0</td>\n",
       "      <td>2</td>\n",
       "    </tr>\n",
       "  </tbody>\n",
       "</table>\n",
       "</div>"
      ],
      "text/plain": [
       "    tripduration          starttime           stoptime  start station id  \\\n",
       "22          2229  7/1/2016 00:02:04  7/1/2016 00:39:14               453   \n",
       "6            466  7/1/2016 00:00:49  7/1/2016 00:08:35               128   \n",
       "19           419  7/1/2016 00:01:59  7/1/2016 00:08:58               128   \n",
       "\n",
       "          start station name  start station latitude  start station longitude  \\\n",
       "22           W 22 St & 8 Ave               40.744751               -73.999154   \n",
       "6   MacDougal St & Prince St               40.727103               -74.002971   \n",
       "19  MacDougal St & Prince St               40.727103               -74.002971   \n",
       "\n",
       "    end station id            end station name  end station latitude  \\\n",
       "22             423             W 54 St & 9 Ave             40.765849   \n",
       "6              250  Lafayette St & Jersey St N             40.724561   \n",
       "19             435             W 21 St & 6 Ave             40.741740   \n",
       "\n",
       "    end station longitude  bikeid    usertype  birth year  gender  \n",
       "22             -73.986905   21035    Customer         NaN       0  \n",
       "6              -73.995653   14676  Subscriber      1989.0       1  \n",
       "19             -73.994156   18069  Subscriber      1992.0       2  "
      ]
     },
     "execution_count": 31,
     "metadata": {},
     "output_type": "execute_result"
    }
   ],
   "source": [
    "df.sample(frac=0.1)"
   ]
  },
  {
   "cell_type": "markdown",
   "metadata": {},
   "source": [
    "Save `DataFrame` to csv file"
   ]
  },
  {
   "cell_type": "code",
   "execution_count": 32,
   "metadata": {},
   "outputs": [],
   "source": [
    "df.to_csv('path_to_file.csv')\n"
   ]
  },
  {
   "cell_type": "markdown",
   "metadata": {},
   "source": [
    "## Data grouping\n"
   ]
  },
  {
   "cell_type": "markdown",
   "metadata": {},
   "source": [
    "Let's talk about how you can group data in Pandas, and how you can manipulate the received groups. Let's say we have some variable, it takes 2 or may have several values, and we want to select all rows in which only the first value occurs, only the second, and so on. This can be done using the `groupby` method, then, after we have selected a certain group, we can  work with it separately, see the distribution of other features for this group, and we can also compare these groups with each other. Let's see how this can be done in Pandas.\n"
   ]
  },
  {
   "cell_type": "code",
   "execution_count": 33,
   "metadata": {},
   "outputs": [
    {
     "data": {
      "text/plain": [
       "<pandas.core.groupby.generic.DataFrameGroupBy object at 0x000000000C118F08>"
      ]
     },
     "execution_count": 33,
     "metadata": {},
     "output_type": "execute_result"
    }
   ],
   "source": [
    "\n",
    "df.groupby(['usertype'])\n"
   ]
  },
  {
   "cell_type": "markdown",
   "metadata": {},
   "source": [
    "And to see what groups you get, you can use the `groups` attribute\n",
    "\n"
   ]
  },
  {
   "cell_type": "code",
   "execution_count": 34,
   "metadata": {},
   "outputs": [
    {
     "data": {
      "text/plain": [
       "{'Customer': Int64Index([0, 3, 4, 15, 22], dtype='int64'),\n",
       " 'Subscriber': Int64Index([ 1,  2,  5,  6,  7,  8,  9, 10, 11, 12, 13, 14, 16, 17, 18, 19, 20,\n",
       "             21, 23, 24, 25, 26, 27, 28, 29],\n",
       "            dtype='int64')}"
      ]
     },
     "execution_count": 34,
     "metadata": {},
     "output_type": "execute_result"
    }
   ],
   "source": [
    "df.groupby(['usertype']).groups"
   ]
  },
  {
   "cell_type": "markdown",
   "metadata": {},
   "source": [
    "\n",
    "And then, in addition to such a representation in the form of indices, we can see which\n",
    "specifically, the values and rows we meet in the group. To do this, you can, for example, see the first lines from each group by calling the `first` method.\n",
    "\n"
   ]
  },
  {
   "cell_type": "code",
   "execution_count": 35,
   "metadata": {},
   "outputs": [
    {
     "data": {
      "text/html": [
       "<div>\n",
       "<style scoped>\n",
       "    .dataframe tbody tr th:only-of-type {\n",
       "        vertical-align: middle;\n",
       "    }\n",
       "\n",
       "    .dataframe tbody tr th {\n",
       "        vertical-align: top;\n",
       "    }\n",
       "\n",
       "    .dataframe thead th {\n",
       "        text-align: right;\n",
       "    }\n",
       "</style>\n",
       "<table border=\"1\" class=\"dataframe\">\n",
       "  <thead>\n",
       "    <tr style=\"text-align: right;\">\n",
       "      <th></th>\n",
       "      <th>tripduration</th>\n",
       "      <th>starttime</th>\n",
       "      <th>stoptime</th>\n",
       "      <th>start station id</th>\n",
       "      <th>start station name</th>\n",
       "      <th>start station latitude</th>\n",
       "      <th>start station longitude</th>\n",
       "      <th>end station id</th>\n",
       "      <th>end station name</th>\n",
       "      <th>end station latitude</th>\n",
       "      <th>end station longitude</th>\n",
       "      <th>bikeid</th>\n",
       "      <th>birth year</th>\n",
       "      <th>gender</th>\n",
       "    </tr>\n",
       "    <tr>\n",
       "      <th>usertype</th>\n",
       "      <th></th>\n",
       "      <th></th>\n",
       "      <th></th>\n",
       "      <th></th>\n",
       "      <th></th>\n",
       "      <th></th>\n",
       "      <th></th>\n",
       "      <th></th>\n",
       "      <th></th>\n",
       "      <th></th>\n",
       "      <th></th>\n",
       "      <th></th>\n",
       "      <th></th>\n",
       "      <th></th>\n",
       "    </tr>\n",
       "  </thead>\n",
       "  <tbody>\n",
       "    <tr>\n",
       "      <th>Customer</th>\n",
       "      <td>704</td>\n",
       "      <td>7/1/2016 00:00:02</td>\n",
       "      <td>7/1/2016 00:11:47</td>\n",
       "      <td>459</td>\n",
       "      <td>W 20 St &amp; 11 Ave</td>\n",
       "      <td>40.746745</td>\n",
       "      <td>-74.007756</td>\n",
       "      <td>347</td>\n",
       "      <td>Greenwich St &amp; W Houston St</td>\n",
       "      <td>40.728846</td>\n",
       "      <td>-74.008591</td>\n",
       "      <td>17431</td>\n",
       "      <td>NaN</td>\n",
       "      <td>0</td>\n",
       "    </tr>\n",
       "    <tr>\n",
       "      <th>Subscriber</th>\n",
       "      <td>492</td>\n",
       "      <td>7/1/2016 00:00:18</td>\n",
       "      <td>7/1/2016 00:08:31</td>\n",
       "      <td>293</td>\n",
       "      <td>Lafayette St &amp; E 8 St</td>\n",
       "      <td>40.730287</td>\n",
       "      <td>-73.990765</td>\n",
       "      <td>466</td>\n",
       "      <td>W 25 St &amp; 6 Ave</td>\n",
       "      <td>40.743954</td>\n",
       "      <td>-73.991449</td>\n",
       "      <td>24159</td>\n",
       "      <td>1984.0</td>\n",
       "      <td>1</td>\n",
       "    </tr>\n",
       "  </tbody>\n",
       "</table>\n",
       "</div>"
      ],
      "text/plain": [
       "            tripduration          starttime           stoptime  \\\n",
       "usertype                                                         \n",
       "Customer             704  7/1/2016 00:00:02  7/1/2016 00:11:47   \n",
       "Subscriber           492  7/1/2016 00:00:18  7/1/2016 00:08:31   \n",
       "\n",
       "            start station id     start station name  start station latitude  \\\n",
       "usertype                                                                      \n",
       "Customer                 459       W 20 St & 11 Ave               40.746745   \n",
       "Subscriber               293  Lafayette St & E 8 St               40.730287   \n",
       "\n",
       "            start station longitude  end station id  \\\n",
       "usertype                                              \n",
       "Customer                 -74.007756             347   \n",
       "Subscriber               -73.990765             466   \n",
       "\n",
       "                       end station name  end station latitude  \\\n",
       "usertype                                                        \n",
       "Customer    Greenwich St & W Houston St             40.728846   \n",
       "Subscriber              W 25 St & 6 Ave             40.743954   \n",
       "\n",
       "            end station longitude  bikeid  birth year  gender  \n",
       "usertype                                                       \n",
       "Customer               -74.008591   17431         NaN       0  \n",
       "Subscriber             -73.991449   24159      1984.0       1  "
      ]
     },
     "execution_count": 35,
     "metadata": {},
     "output_type": "execute_result"
    }
   ],
   "source": [
    "df.groupby(['usertype']).first()\n"
   ]
  },
  {
   "cell_type": "markdown",
   "metadata": {},
   "source": [
    "And now that we already have some grouped structure, we can count some distribution of values. Let's say we want to see the average travel times for each user group.\n",
    "We also group the data, and then we specify the list of values needed for aggregation, and then the method we want, by which we actually we aggregate data, for example, the average duration of trips."
   ]
  },
  {
   "cell_type": "code",
   "execution_count": 36,
   "metadata": {},
   "outputs": [
    {
     "data": {
      "text/html": [
       "<div>\n",
       "<style scoped>\n",
       "    .dataframe tbody tr th:only-of-type {\n",
       "        vertical-align: middle;\n",
       "    }\n",
       "\n",
       "    .dataframe tbody tr th {\n",
       "        vertical-align: top;\n",
       "    }\n",
       "\n",
       "    .dataframe thead th {\n",
       "        text-align: right;\n",
       "    }\n",
       "</style>\n",
       "<table border=\"1\" class=\"dataframe\">\n",
       "  <thead>\n",
       "    <tr style=\"text-align: right;\">\n",
       "      <th></th>\n",
       "      <th>tripduration</th>\n",
       "    </tr>\n",
       "    <tr>\n",
       "      <th>usertype</th>\n",
       "      <th></th>\n",
       "    </tr>\n",
       "  </thead>\n",
       "  <tbody>\n",
       "    <tr>\n",
       "      <th>Customer</th>\n",
       "      <td>952.40</td>\n",
       "    </tr>\n",
       "    <tr>\n",
       "      <th>Subscriber</th>\n",
       "      <td>766.48</td>\n",
       "    </tr>\n",
       "  </tbody>\n",
       "</table>\n",
       "</div>"
      ],
      "text/plain": [
       "            tripduration\n",
       "usertype                \n",
       "Customer          952.40\n",
       "Subscriber        766.48"
      ]
     },
     "execution_count": 36,
     "metadata": {},
     "output_type": "execute_result"
    }
   ],
   "source": [
    "df.groupby(['usertype'])[['tripduration']].mean()\n"
   ]
  },
  {
   "cell_type": "markdown",
   "metadata": {},
   "source": [
    "We return some `DataFrame`, and also, if we specify not\n",
    "a list of values, but only one value, in this case, we have\n",
    "an object of type `Series`.\n"
   ]
  },
  {
   "cell_type": "code",
   "execution_count": 37,
   "metadata": {},
   "outputs": [
    {
     "data": {
      "text/plain": [
       "usertype\n",
       "Customer      952.40\n",
       "Subscriber    766.48\n",
       "Name: tripduration, dtype: float64"
      ]
     },
     "execution_count": 37,
     "metadata": {},
     "output_type": "execute_result"
    }
   ],
   "source": [
    "df.groupby(['usertype'])['tripduration'].mean()"
   ]
  },
  {
   "cell_type": "markdown",
   "metadata": {},
   "source": [
    "Pandas also allows you to group data not only by any one criterion, but\n",
    "by a group of criterion. To do this, we just need to add another additional\n",
    "column to method `groupby`\n",
    "\n"
   ]
  },
  {
   "cell_type": "code",
   "execution_count": 38,
   "metadata": {},
   "outputs": [
    {
     "data": {
      "text/html": [
       "<div>\n",
       "<style scoped>\n",
       "    .dataframe tbody tr th:only-of-type {\n",
       "        vertical-align: middle;\n",
       "    }\n",
       "\n",
       "    .dataframe tbody tr th {\n",
       "        vertical-align: top;\n",
       "    }\n",
       "\n",
       "    .dataframe thead th {\n",
       "        text-align: right;\n",
       "    }\n",
       "</style>\n",
       "<table border=\"1\" class=\"dataframe\">\n",
       "  <thead>\n",
       "    <tr style=\"text-align: right;\">\n",
       "      <th></th>\n",
       "      <th></th>\n",
       "      <th>tripduration</th>\n",
       "    </tr>\n",
       "    <tr>\n",
       "      <th>usertype</th>\n",
       "      <th>gender</th>\n",
       "      <th></th>\n",
       "    </tr>\n",
       "  </thead>\n",
       "  <tbody>\n",
       "    <tr>\n",
       "      <th>Customer</th>\n",
       "      <th>0</th>\n",
       "      <td>952.400000</td>\n",
       "    </tr>\n",
       "    <tr>\n",
       "      <th rowspan=\"2\" valign=\"top\">Subscriber</th>\n",
       "      <th>1</th>\n",
       "      <td>842.833333</td>\n",
       "    </tr>\n",
       "    <tr>\n",
       "      <th>2</th>\n",
       "      <td>570.142857</td>\n",
       "    </tr>\n",
       "  </tbody>\n",
       "</table>\n",
       "</div>"
      ],
      "text/plain": [
       "                   tripduration\n",
       "usertype   gender              \n",
       "Customer   0         952.400000\n",
       "Subscriber 1         842.833333\n",
       "           2         570.142857"
      ]
     },
     "execution_count": 38,
     "metadata": {},
     "output_type": "execute_result"
    }
   ],
   "source": [
    "df.groupby(['usertype','gender'])[['tripduration']].mean()"
   ]
  },
  {
   "cell_type": "code",
   "execution_count": 39,
   "metadata": {},
   "outputs": [
    {
     "data": {
      "text/html": [
       "<div>\n",
       "<style scoped>\n",
       "    .dataframe tbody tr th:only-of-type {\n",
       "        vertical-align: middle;\n",
       "    }\n",
       "\n",
       "    .dataframe tbody tr th {\n",
       "        vertical-align: top;\n",
       "    }\n",
       "\n",
       "    .dataframe thead tr th {\n",
       "        text-align: left;\n",
       "    }\n",
       "\n",
       "    .dataframe thead tr:last-of-type th {\n",
       "        text-align: right;\n",
       "    }\n",
       "</style>\n",
       "<table border=\"1\" class=\"dataframe\">\n",
       "  <thead>\n",
       "    <tr>\n",
       "      <th></th>\n",
       "      <th colspan=\"2\" halign=\"left\">tripduration</th>\n",
       "    </tr>\n",
       "    <tr>\n",
       "      <th>gender</th>\n",
       "      <th>1</th>\n",
       "      <th>2</th>\n",
       "    </tr>\n",
       "    <tr>\n",
       "      <th>usertype</th>\n",
       "      <th></th>\n",
       "      <th></th>\n",
       "    </tr>\n",
       "  </thead>\n",
       "  <tbody>\n",
       "    <tr>\n",
       "      <th>Subscriber</th>\n",
       "      <td>842.833333</td>\n",
       "      <td>570.142857</td>\n",
       "    </tr>\n",
       "  </tbody>\n",
       "</table>\n",
       "</div>"
      ],
      "text/plain": [
       "           tripduration            \n",
       "gender                1           2\n",
       "usertype                           \n",
       "Subscriber   842.833333  570.142857"
      ]
     },
     "execution_count": 39,
     "metadata": {},
     "output_type": "execute_result"
    }
   ],
   "source": [
    "\n",
    "df.groupby(['usertype','gender'])[['tripduration']].mean()[1:3].unstack()"
   ]
  },
  {
   "cell_type": "markdown",
   "metadata": {},
   "source": [
    "After grouping the Pandas data, we can read some aggregated value by attributes for each group, but if we are interested in any distribution of the value not only by one attribute, but by several ones at once, then this can be done using the `agg` method.\n",
    "\n"
   ]
  },
  {
   "cell_type": "code",
   "execution_count": 40,
   "metadata": {},
   "outputs": [
    {
     "data": {
      "text/html": [
       "<div>\n",
       "<style scoped>\n",
       "    .dataframe tbody tr th:only-of-type {\n",
       "        vertical-align: middle;\n",
       "    }\n",
       "\n",
       "    .dataframe tbody tr th {\n",
       "        vertical-align: top;\n",
       "    }\n",
       "\n",
       "    .dataframe thead th {\n",
       "        text-align: right;\n",
       "    }\n",
       "</style>\n",
       "<table border=\"1\" class=\"dataframe\">\n",
       "  <thead>\n",
       "    <tr style=\"text-align: right;\">\n",
       "      <th></th>\n",
       "      <th>tripduration</th>\n",
       "      <th>starttime</th>\n",
       "    </tr>\n",
       "    <tr>\n",
       "      <th>usertype</th>\n",
       "      <th></th>\n",
       "      <th></th>\n",
       "    </tr>\n",
       "  </thead>\n",
       "  <tbody>\n",
       "    <tr>\n",
       "      <th>Customer</th>\n",
       "      <td>4762</td>\n",
       "      <td>7/1/2016 00:00:02</td>\n",
       "    </tr>\n",
       "    <tr>\n",
       "      <th>Subscriber</th>\n",
       "      <td>19162</td>\n",
       "      <td>7/1/2016 00:00:18</td>\n",
       "    </tr>\n",
       "  </tbody>\n",
       "</table>\n",
       "</div>"
      ],
      "text/plain": [
       "            tripduration          starttime\n",
       "usertype                                   \n",
       "Customer            4762  7/1/2016 00:00:02\n",
       "Subscriber         19162  7/1/2016 00:00:18"
      ]
     },
     "execution_count": 40,
     "metadata": {},
     "output_type": "execute_result"
    }
   ],
   "source": [
    "df.groupby(['usertype']).agg({'tripduration':sum, 'starttime':'first'})"
   ]
  },
  {
   "cell_type": "markdown",
   "metadata": {},
   "source": [
    "Also, if we need to look at the change in values or any\n",
    "other metrics for some one criterion, we can specify the list of methods as the value in the same dictionary, for this columns.\n"
   ]
  },
  {
   "cell_type": "code",
   "execution_count": 41,
   "metadata": {},
   "outputs": [
    {
     "data": {
      "text/html": [
       "<div>\n",
       "<style scoped>\n",
       "    .dataframe tbody tr th:only-of-type {\n",
       "        vertical-align: middle;\n",
       "    }\n",
       "\n",
       "    .dataframe tbody tr th {\n",
       "        vertical-align: top;\n",
       "    }\n",
       "\n",
       "    .dataframe thead tr th {\n",
       "        text-align: left;\n",
       "    }\n",
       "\n",
       "    .dataframe thead tr:last-of-type th {\n",
       "        text-align: right;\n",
       "    }\n",
       "</style>\n",
       "<table border=\"1\" class=\"dataframe\">\n",
       "  <thead>\n",
       "    <tr>\n",
       "      <th></th>\n",
       "      <th colspan=\"2\" halign=\"left\">tripduration</th>\n",
       "      <th>starttime</th>\n",
       "    </tr>\n",
       "    <tr>\n",
       "      <th></th>\n",
       "      <th>sum</th>\n",
       "      <th>min</th>\n",
       "      <th>first</th>\n",
       "    </tr>\n",
       "    <tr>\n",
       "      <th>usertype</th>\n",
       "      <th></th>\n",
       "      <th></th>\n",
       "      <th></th>\n",
       "    </tr>\n",
       "  </thead>\n",
       "  <tbody>\n",
       "    <tr>\n",
       "      <th>Customer</th>\n",
       "      <td>4762</td>\n",
       "      <td>533</td>\n",
       "      <td>7/1/2016 00:00:02</td>\n",
       "    </tr>\n",
       "    <tr>\n",
       "      <th>Subscriber</th>\n",
       "      <td>19162</td>\n",
       "      <td>191</td>\n",
       "      <td>7/1/2016 00:00:18</td>\n",
       "    </tr>\n",
       "  </tbody>\n",
       "</table>\n",
       "</div>"
      ],
      "text/plain": [
       "           tripduration               starttime\n",
       "                    sum  min              first\n",
       "usertype                                       \n",
       "Customer           4762  533  7/1/2016 00:00:02\n",
       "Subscriber        19162  191  7/1/2016 00:00:18"
      ]
     },
     "execution_count": 41,
     "metadata": {},
     "output_type": "execute_result"
    }
   ],
   "source": [
    "df.groupby(['usertype']).agg({'tripduration':[sum, min], 'starttime':'first'})"
   ]
  },
  {
   "cell_type": "markdown",
   "metadata": {},
   "source": [
    "\n",
    "\n",
    "\n",
    "Let's also consider the option when we want to calculate some value, not\n",
    "using built-in functions, but using some function of our own. It can be done,\n",
    "for example using a `lambda` function."
   ]
  },
  {
   "cell_type": "code",
   "execution_count": 42,
   "metadata": {},
   "outputs": [
    {
     "data": {
      "text/html": [
       "<div>\n",
       "<style scoped>\n",
       "    .dataframe tbody tr th:only-of-type {\n",
       "        vertical-align: middle;\n",
       "    }\n",
       "\n",
       "    .dataframe tbody tr th {\n",
       "        vertical-align: top;\n",
       "    }\n",
       "\n",
       "    .dataframe thead th {\n",
       "        text-align: right;\n",
       "    }\n",
       "</style>\n",
       "<table border=\"1\" class=\"dataframe\">\n",
       "  <thead>\n",
       "    <tr style=\"text-align: right;\">\n",
       "      <th></th>\n",
       "      <th>tripduration</th>\n",
       "      <th>starttime</th>\n",
       "    </tr>\n",
       "    <tr>\n",
       "      <th>usertype</th>\n",
       "      <th></th>\n",
       "      <th></th>\n",
       "    </tr>\n",
       "  </thead>\n",
       "  <tbody>\n",
       "    <tr>\n",
       "      <th>Customer</th>\n",
       "      <td>37.15</td>\n",
       "      <td>7/1/2016 00:00:02</td>\n",
       "    </tr>\n",
       "    <tr>\n",
       "      <th>Subscriber</th>\n",
       "      <td>36.65</td>\n",
       "      <td>7/1/2016 00:00:18</td>\n",
       "    </tr>\n",
       "  </tbody>\n",
       "</table>\n",
       "</div>"
      ],
      "text/plain": [
       "            tripduration          starttime\n",
       "usertype                                   \n",
       "Customer           37.15  7/1/2016 00:00:02\n",
       "Subscriber         36.65  7/1/2016 00:00:18"
      ]
     },
     "execution_count": 42,
     "metadata": {},
     "output_type": "execute_result"
    }
   ],
   "source": [
    "df.groupby(['usertype']).agg({'tripduration': lambda x: max(x)/60, 'starttime':'first'})"
   ]
  },
  {
   "cell_type": "markdown",
   "metadata": {},
   "source": [
    "Rename columns "
   ]
  },
  {
   "cell_type": "code",
   "execution_count": 43,
   "metadata": {},
   "outputs": [
    {
     "data": {
      "text/html": [
       "<div>\n",
       "<style scoped>\n",
       "    .dataframe tbody tr th:only-of-type {\n",
       "        vertical-align: middle;\n",
       "    }\n",
       "\n",
       "    .dataframe tbody tr th {\n",
       "        vertical-align: top;\n",
       "    }\n",
       "\n",
       "    .dataframe thead th {\n",
       "        text-align: right;\n",
       "    }\n",
       "</style>\n",
       "<table border=\"1\" class=\"dataframe\">\n",
       "  <thead>\n",
       "    <tr style=\"text-align: right;\">\n",
       "      <th></th>\n",
       "      <th>tripduration</th>\n",
       "      <th>starttime</th>\n",
       "      <th>stoptime</th>\n",
       "      <th>start station id</th>\n",
       "      <th>start station name</th>\n",
       "      <th>start station latitude</th>\n",
       "      <th>start station longitude</th>\n",
       "      <th>end station id</th>\n",
       "      <th>end station name</th>\n",
       "      <th>end station latitude</th>\n",
       "      <th>end station longitude</th>\n",
       "      <th>bikeid</th>\n",
       "      <th>usertype</th>\n",
       "      <th>birth year</th>\n",
       "      <th>sex</th>\n",
       "    </tr>\n",
       "  </thead>\n",
       "  <tbody>\n",
       "    <tr>\n",
       "      <th>0</th>\n",
       "      <td>704</td>\n",
       "      <td>7/1/2016 00:00:02</td>\n",
       "      <td>7/1/2016 00:11:47</td>\n",
       "      <td>459</td>\n",
       "      <td>W 20 St &amp; 11 Ave</td>\n",
       "      <td>40.746745</td>\n",
       "      <td>-74.007756</td>\n",
       "      <td>347</td>\n",
       "      <td>Greenwich St &amp; W Houston St</td>\n",
       "      <td>40.728846</td>\n",
       "      <td>-74.008591</td>\n",
       "      <td>17431</td>\n",
       "      <td>Customer</td>\n",
       "      <td>NaN</td>\n",
       "      <td>0</td>\n",
       "    </tr>\n",
       "    <tr>\n",
       "      <th>1</th>\n",
       "      <td>492</td>\n",
       "      <td>7/1/2016 00:00:18</td>\n",
       "      <td>7/1/2016 00:08:31</td>\n",
       "      <td>293</td>\n",
       "      <td>Lafayette St &amp; E 8 St</td>\n",
       "      <td>40.730287</td>\n",
       "      <td>-73.990765</td>\n",
       "      <td>466</td>\n",
       "      <td>W 25 St &amp; 6 Ave</td>\n",
       "      <td>40.743954</td>\n",
       "      <td>-73.991449</td>\n",
       "      <td>24159</td>\n",
       "      <td>Subscriber</td>\n",
       "      <td>1984.0</td>\n",
       "      <td>1</td>\n",
       "    </tr>\n",
       "    <tr>\n",
       "      <th>2</th>\n",
       "      <td>191</td>\n",
       "      <td>7/1/2016 00:00:19</td>\n",
       "      <td>7/1/2016 00:03:31</td>\n",
       "      <td>3090</td>\n",
       "      <td>N 8 St &amp; Driggs Ave</td>\n",
       "      <td>40.717746</td>\n",
       "      <td>-73.956001</td>\n",
       "      <td>3107</td>\n",
       "      <td>Bedford Ave &amp; Nassau Ave</td>\n",
       "      <td>40.723117</td>\n",
       "      <td>-73.952123</td>\n",
       "      <td>16345</td>\n",
       "      <td>Subscriber</td>\n",
       "      <td>1986.0</td>\n",
       "      <td>2</td>\n",
       "    </tr>\n",
       "    <tr>\n",
       "      <th>3</th>\n",
       "      <td>687</td>\n",
       "      <td>7/1/2016 00:00:24</td>\n",
       "      <td>7/1/2016 00:11:52</td>\n",
       "      <td>459</td>\n",
       "      <td>W 20 St &amp; 11 Ave</td>\n",
       "      <td>40.746745</td>\n",
       "      <td>-74.007756</td>\n",
       "      <td>347</td>\n",
       "      <td>Greenwich St &amp; W Houston St</td>\n",
       "      <td>40.728846</td>\n",
       "      <td>-74.008591</td>\n",
       "      <td>25210</td>\n",
       "      <td>Customer</td>\n",
       "      <td>NaN</td>\n",
       "      <td>0</td>\n",
       "    </tr>\n",
       "    <tr>\n",
       "      <th>4</th>\n",
       "      <td>609</td>\n",
       "      <td>7/1/2016 00:00:31</td>\n",
       "      <td>7/1/2016 00:10:40</td>\n",
       "      <td>284</td>\n",
       "      <td>Greenwich Ave &amp; 8 Ave</td>\n",
       "      <td>40.739017</td>\n",
       "      <td>-74.002638</td>\n",
       "      <td>212</td>\n",
       "      <td>W 16 St &amp; The High Line</td>\n",
       "      <td>40.743349</td>\n",
       "      <td>-74.006818</td>\n",
       "      <td>15514</td>\n",
       "      <td>Customer</td>\n",
       "      <td>NaN</td>\n",
       "      <td>0</td>\n",
       "    </tr>\n",
       "  </tbody>\n",
       "</table>\n",
       "</div>"
      ],
      "text/plain": [
       "   tripduration          starttime           stoptime  start station id  \\\n",
       "0           704  7/1/2016 00:00:02  7/1/2016 00:11:47               459   \n",
       "1           492  7/1/2016 00:00:18  7/1/2016 00:08:31               293   \n",
       "2           191  7/1/2016 00:00:19  7/1/2016 00:03:31              3090   \n",
       "3           687  7/1/2016 00:00:24  7/1/2016 00:11:52               459   \n",
       "4           609  7/1/2016 00:00:31  7/1/2016 00:10:40               284   \n",
       "\n",
       "      start station name  start station latitude  start station longitude  \\\n",
       "0       W 20 St & 11 Ave               40.746745               -74.007756   \n",
       "1  Lafayette St & E 8 St               40.730287               -73.990765   \n",
       "2    N 8 St & Driggs Ave               40.717746               -73.956001   \n",
       "3       W 20 St & 11 Ave               40.746745               -74.007756   \n",
       "4  Greenwich Ave & 8 Ave               40.739017               -74.002638   \n",
       "\n",
       "   end station id             end station name  end station latitude  \\\n",
       "0             347  Greenwich St & W Houston St             40.728846   \n",
       "1             466              W 25 St & 6 Ave             40.743954   \n",
       "2            3107     Bedford Ave & Nassau Ave             40.723117   \n",
       "3             347  Greenwich St & W Houston St             40.728846   \n",
       "4             212      W 16 St & The High Line             40.743349   \n",
       "\n",
       "   end station longitude  bikeid    usertype  birth year  sex  \n",
       "0             -74.008591   17431    Customer         NaN    0  \n",
       "1             -73.991449   24159  Subscriber      1984.0    1  \n",
       "2             -73.952123   16345  Subscriber      1986.0    2  \n",
       "3             -74.008591   25210    Customer         NaN    0  \n",
       "4             -74.006818   15514    Customer         NaN    0  "
      ]
     },
     "execution_count": 43,
     "metadata": {},
     "output_type": "execute_result"
    }
   ],
   "source": [
    "df.rename(columns={'gender':'sex'}, inplace=True)\n",
    "df.head()"
   ]
  },
  {
   "cell_type": "markdown",
   "metadata": {},
   "source": [
    "#### More examples"
   ]
  },
  {
   "cell_type": "markdown",
   "metadata": {},
   "source": [
    "Download a larger dataset.\n",
    "\n",
    "**This dataset is too large for GitHub. The link for this dataset** - https://iiiii-my.sharepoint.com/:u:/g/personal/svitlana_kovalenko_khpi_edu_ua/Eclssw_8jslCn0WEsRIipdYBs3AdUm8r_B3zAGlAn7l9sQ?e=kQInoE"
   ]
  },
  {
   "cell_type": "code",
   "execution_count": 45,
   "metadata": {},
   "outputs": [],
   "source": [
    "df = pd.read_csv('data\\citibike-tripdata.csv')"
   ]
  },
  {
   "cell_type": "markdown",
   "metadata": {},
   "source": [
    "Find its shape"
   ]
  },
  {
   "cell_type": "code",
   "execution_count": null,
   "metadata": {},
   "outputs": [],
   "source": [
    "df.shape"
   ]
  },
  {
   "cell_type": "markdown",
   "metadata": {},
   "source": [
    "Find the average trip duration in minutes ('tripduration' column) with the precision upto 2 decimal places"
   ]
  },
  {
   "cell_type": "code",
   "execution_count": 46,
   "metadata": {},
   "outputs": [
    {
     "data": {
      "text/plain": [
       "16.13"
      ]
     },
     "execution_count": 46,
     "metadata": {},
     "output_type": "execute_result"
    }
   ],
   "source": [
    "df['tripduration_min'] = df['tripduration']/60\n",
    "round(df.describe()['tripduration_min']['mean'], 2)"
   ]
  },
  {
   "cell_type": "markdown",
   "metadata": {},
   "source": [
    "Another way"
   ]
  },
  {
   "cell_type": "code",
   "execution_count": 47,
   "metadata": {},
   "outputs": [
    {
     "data": {
      "text/plain": [
       "16.13"
      ]
     },
     "execution_count": 47,
     "metadata": {},
     "output_type": "execute_result"
    }
   ],
   "source": [
    "round(df['tripduration_min'].mean(), 2)"
   ]
  },
  {
   "cell_type": "markdown",
   "metadata": {},
   "source": [
    "How many trips started and ended at the same station?"
   ]
  },
  {
   "cell_type": "code",
   "execution_count": 48,
   "metadata": {},
   "outputs": [
    {
     "data": {
      "text/plain": [
       "41364"
      ]
     },
     "execution_count": 48,
     "metadata": {},
     "output_type": "execute_result"
    }
   ],
   "source": [
    "df[(df['start station id'] == df['end station id'])].shape[0]"
   ]
  },
  {
   "cell_type": "markdown",
   "metadata": {},
   "source": [
    "For trips that started and ended at the same station, calculate the number of unique bikes"
   ]
  },
  {
   "cell_type": "code",
   "execution_count": 49,
   "metadata": {},
   "outputs": [
    {
     "data": {
      "text/plain": [
       "9939"
      ]
     },
     "execution_count": 49,
     "metadata": {},
     "output_type": "execute_result"
    }
   ],
   "source": [
    "df[(df['start station id'] == df['end station id'])]['bikeid'].unique().shape[0]"
   ]
  },
  {
   "cell_type": "markdown",
   "metadata": {},
   "source": [
    "What's the most used bike (bikeid) in the city in terms of rides?"
   ]
  },
  {
   "cell_type": "code",
   "execution_count": 50,
   "metadata": {},
   "outputs": [
    {
     "data": {
      "text/plain": [
       "559"
      ]
     },
     "execution_count": 50,
     "metadata": {},
     "output_type": "execute_result"
    }
   ],
   "source": [
    "df['bikeid'].value_counts()[:1].values[0]"
   ]
  },
  {
   "cell_type": "markdown",
   "metadata": {},
   "source": [
    "Find a bike (bikeid) that has longer rides on average than everyone else"
   ]
  },
  {
   "cell_type": "code",
   "execution_count": 51,
   "metadata": {},
   "outputs": [
    {
     "data": {
      "text/plain": [
       "17548"
      ]
     },
     "execution_count": 51,
     "metadata": {},
     "output_type": "execute_result"
    }
   ],
   "source": [
    "df.groupby('bikeid')['tripduration'].mean().sort_values(ascending=False)[:1].index[0]"
   ]
  },
  {
   "cell_type": "markdown",
   "metadata": {},
   "source": [
    "What is the average trip duration per subscription type, down to 2 decimal places?"
   ]
  },
  {
   "cell_type": "code",
   "execution_count": 52,
   "metadata": {},
   "outputs": [
    {
     "data": {
      "text/plain": [
       "usertype\n",
       "Customer      2004.92\n",
       "Subscriber     799.94\n",
       "Name: tripduration, dtype: float64"
      ]
     },
     "execution_count": 52,
     "metadata": {},
     "output_type": "execute_result"
    }
   ],
   "source": [
    "round(df.groupby('usertype')['tripduration'].mean(),2)"
   ]
  },
  {
   "cell_type": "markdown",
   "metadata": {},
   "source": [
    "For each station, find the distance between stations, and then find the average distance across all trips, having previously droped closed paths (those with the same start station id = end station id).\n",
    "\n",
    "Hint: you can use the `geopy` library and take the `distance` (the minimum distance between points)"
   ]
  },
  {
   "cell_type": "code",
   "execution_count": 53,
   "metadata": {},
   "outputs": [],
   "source": [
    "from geopy.distance import distance"
   ]
  },
  {
   "cell_type": "code",
   "execution_count": 54,
   "metadata": {},
   "outputs": [],
   "source": [
    "df = pd.read_csv('..\\data\\citibike.csv')"
   ]
  },
  {
   "cell_type": "code",
   "execution_count": 55,
   "metadata": {},
   "outputs": [
    {
     "name": "stdout",
     "output_type": "stream",
     "text": [
      "1.7742745629520018\n"
     ]
    }
   ],
   "source": [
    "df['distance_km'] = df.apply(lambda x: distance((x['start station latitude'], \n",
    "                                                 x['start station longitude']),\n",
    "                                                (x['end station latitude'], \n",
    "                                                 x['end station longitude'])).kilometers, axis=1)\n",
    "\n",
    "print(df['distance_km'].mean())"
   ]
  },
  {
   "cell_type": "markdown",
   "metadata": {},
   "source": [
    "Find the distance of the shortest trip"
   ]
  },
  {
   "cell_type": "code",
   "execution_count": 56,
   "metadata": {},
   "outputs": [
    {
     "data": {
      "text/plain": [
       "0.17308291372640913"
      ]
     },
     "execution_count": 56,
     "metadata": {},
     "output_type": "execute_result"
    }
   ],
   "source": [
    "df['distance_km'].min()"
   ]
  },
  {
   "cell_type": "code",
   "execution_count": null,
   "metadata": {},
   "outputs": [],
   "source": []
  }
 ],
 "metadata": {
  "kernelspec": {
   "display_name": "Python 3",
   "language": "python",
   "name": "python3"
  },
  "language_info": {
   "codemirror_mode": {
    "name": "ipython",
    "version": 3
   },
   "file_extension": ".py",
   "mimetype": "text/x-python",
   "name": "python",
   "nbconvert_exporter": "python",
   "pygments_lexer": "ipython3",
   "version": "3.7.6"
  }
 },
 "nbformat": 4,
 "nbformat_minor": 4
}
